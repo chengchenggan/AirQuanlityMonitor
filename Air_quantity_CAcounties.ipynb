{
 "cells": [
  {
   "cell_type": "markdown",
   "metadata": {},
   "source": [
    "## Step 1: link to the API, pull data"
   ]
  },
  {
   "cell_type": "code",
   "execution_count": 1,
   "metadata": {},
   "outputs": [],
   "source": [
    "import pandas as pd\n",
    "from sqlalchemy import create_engine\n",
    "import json\n",
    "from pandas.io.json import json_normalize\n",
    "import requests\n",
    "from config import key\n",
    "from config import gkey\n",
    "import time\n",
    "import pymongo"
   ]
  },
  {
   "cell_type": "code",
   "execution_count": null,
   "metadata": {},
   "outputs": [],
   "source": [
    "#get state code number --CA 06\n",
    "state_url = \"https://aqs.epa.gov/data/api/list/states?email=\"+gkey+\"&key=\"+key\n",
    "response = requests.get(state_url)\n",
    "response_json = response.json()\n",
    "response_json_data = response_json['Data']\n",
    "#print(response_json_data)\n",
    "state_df = pd.DataFrame.from_dict(response_json_data)\n",
    "state_df.head()"
   ]
  },
  {
   "cell_type": "code",
   "execution_count": null,
   "metadata": {},
   "outputs": [],
   "source": [
    "#get SF code -- 075\n",
    "city_url = \"https://aqs.epa.gov/data/api/list/countiesByState?email=\"+gkey +\"&key=\"+key+\"&state=06\"\n",
    "print(city_url)\n",
    "response = requests.get(city_url)\n",
    "response_json = response.json()\n",
    "response_json_data = response_json['Data']\n",
    "#print(response_json_data)\n",
    "city_df = pd.DataFrame.from_dict(response_json_data)\n",
    "city_df.head()"
   ]
  },
  {
   "cell_type": "code",
   "execution_count": null,
   "metadata": {},
   "outputs": [],
   "source": [
    "#CBSAs code\": \"41860\",\n",
    "#      \"value_represented\": \"San Francisco-Oakland-Hayward, CA\n",
    "\n",
    "#  \"Parameter code\": \"PM2.5 CONT NONREF\",\n",
    "#       \"value_represented\": \"PM2.5 Continuous, Nonreference Methods\"\n",
    "#     },\n",
    "#     {\n",
    "#       \"code\": \"PM2.5 MASS/QA\",\n",
    "#       \"value_represented\": \"PM2.5 Mass and QA Parameters\"\n",
    "\n",
    "\n",
    "# \"CRITERIA code\": \"88101\",\n",
    "#       \"value_represented\": \"PM2.5 - Local Conditions\""
   ]
  },
  {
   "cell_type": "code",
   "execution_count": null,
   "metadata": {},
   "outputs": [],
   "source": [
    "#get current 5y PM 2.5 data for SF\n",
    "#https://aqs.epa.gov/data/api/sampleData/byCBSA?email=test@aqs.api&key=test&param=42602&bdate=20170101&edate=20170101&cbsa=16740\n",
    "#sf_url = \"https://aqs.epa.gov/data/api/sampleData/byCBSA?email=\"+gkey+\"&key=\"+key+\"&param=88101&bdate=20190101&edate=20190101&cbsa=41860\"\n",
    "\n",
    "sf_url = \"https://aqs.epa.gov/data/api/dailyData/byCounty?email=\"+gkey+\"&key=\"+key+\"&param=88101&bdate=20140301&edate=20190331&state=06&county=075\"\n",
    "print(sf_url)\n",
    "response = requests.get(sf_url)\n",
    "response_json = response.json()\n",
    "#print(response_json)\n",
    "response_json_data = response_json['Data']\n",
    "# #print(response_json_data)\n",
    "sf_df = pd.DataFrame.from_dict(response_json_data)\n",
    "sf_df.head()\n",
    "#https://aqs.epa.gov/data/api/monitors/byState?email=test@aqs.api&key=test&param=42401&bdate=20150501&edate=20150502&state=15"
   ]
  },
  {
   "cell_type": "code",
   "execution_count": null,
   "metadata": {},
   "outputs": [],
   "source": [
    "# get 5year California data by county\n",
    "county_codes = city_df['code'].tolist()\n",
    "county_codes_10 = county_codes[0:10]\n",
    "county_codes_10"
   ]
  },
  {
   "cell_type": "code",
   "execution_count": null,
   "metadata": {},
   "outputs": [],
   "source": [
    "total_county_data_10 = pd.DataFrame()\n",
    "for i in county_codes_10:\n",
    "    county_data = \"https://aqs.epa.gov/data/api/dailyData/byCounty?email=\"+gkey+\"&key=\"+key+\"&param=88101&bdate=20140301&edate=20190331&state=06&county=\"+i\n",
    "    print(county_data)\n",
    "    response = requests.get(county_data)\n",
    "    response_json = response.json()\n",
    "    response_json_data = response_json['Data']\n",
    "    county_data =pd.DataFrame.from_dict(response_json_data)\n",
    "    total_county_data_10 = total_county_data_10.append(county_data)\n",
    "    time.sleep(2)\n",
    "total_county_data_10.head()"
   ]
  },
  {
   "cell_type": "code",
   "execution_count": null,
   "metadata": {},
   "outputs": [],
   "source": [
    "total_county_data_10.to_csv(\"ca_10.csv\")"
   ]
  },
  {
   "cell_type": "code",
   "execution_count": null,
   "metadata": {},
   "outputs": [],
   "source": [
    "county_codes = city_df['code'].tolist()\n",
    "county_codes_40 = county_codes[31:40]\n",
    "county_codes_40"
   ]
  },
  {
   "cell_type": "code",
   "execution_count": null,
   "metadata": {},
   "outputs": [],
   "source": [
    "total_county_data_40 = pd.DataFrame()\n",
    "for i in county_codes_40:\n",
    "    county_data = \"https://aqs.epa.gov/data/api/dailyData/byCounty?email=\"+gkey+\"&key=\"+key+\"&param=88101&bdate=20140301&edate=20190331&state=06&county=\"+i\n",
    "    print(county_data)\n",
    "    response = requests.get(county_data)\n",
    "    response_json = response.json()\n",
    "    response_json_data = response_json['Data']\n",
    "    county_data =pd.DataFrame.from_dict(response_json_data)\n",
    "    total_county_data_40 = total_county_data_40.append(county_data)\n",
    "    time.sleep(2)\n",
    "total_county_data_40.head()"
   ]
  },
  {
   "cell_type": "code",
   "execution_count": null,
   "metadata": {},
   "outputs": [],
   "source": [
    "total_county_data_40.to_csv(\"ca_40.csv\")"
   ]
  },
  {
   "cell_type": "code",
   "execution_count": null,
   "metadata": {},
   "outputs": [],
   "source": [
    "county_codes = city_df['code'].tolist()\n",
    "county_codes_30 = county_codes[21:30]\n",
    "county_codes_30"
   ]
  },
  {
   "cell_type": "code",
   "execution_count": null,
   "metadata": {},
   "outputs": [],
   "source": [
    "total_county_data_30 = pd.DataFrame()\n",
    "for i in county_codes_30:\n",
    "    county_data = \"https://aqs.epa.gov/data/api/dailyData/byCounty?email=\"+gkey+\"&key=\"+key+\"&param=88101&bdate=20140301&edate=20190331&state=06&county=\"+i\n",
    "    print(county_data)\n",
    "    response = requests.get(county_data)\n",
    "    response_json = response.json()\n",
    "    response_json_data = response_json['Data']\n",
    "    county_data =pd.DataFrame.from_dict(response_json_data)\n",
    "    total_county_data_30 = total_county_data_30.append(county_data)\n",
    "    time.sleep(2)\n",
    "total_county_data_30.head()"
   ]
  },
  {
   "cell_type": "code",
   "execution_count": null,
   "metadata": {},
   "outputs": [],
   "source": [
    "total_county_data_30.to_csv(\"ca_30.csv\")"
   ]
  },
  {
   "cell_type": "code",
   "execution_count": null,
   "metadata": {},
   "outputs": [],
   "source": [
    "county_codes = city_df['code'].tolist()\n",
    "county_codes_50 = county_codes[41:50]\n",
    "county_codes_50"
   ]
  },
  {
   "cell_type": "code",
   "execution_count": null,
   "metadata": {},
   "outputs": [],
   "source": [
    "total_county_data_50 = pd.DataFrame()\n",
    "for i in county_codes_50:\n",
    "    county_data = \"https://aqs.epa.gov/data/api/dailyData/byCounty?email=\"+gkey+\"&key=\"+key+\"&param=88101&bdate=20140301&edate=20190331&state=06&county=\"+i\n",
    "    print(county_data)\n",
    "    response = requests.get(county_data)\n",
    "    response_json = response.json()\n",
    "    response_json_data = response_json['Data']\n",
    "    county_data =pd.DataFrame.from_dict(response_json_data)\n",
    "    total_county_data_50 = total_county_data_50.append(county_data)\n",
    "    time.sleep(2)\n",
    "total_county_data_50.head()"
   ]
  },
  {
   "cell_type": "code",
   "execution_count": null,
   "metadata": {},
   "outputs": [],
   "source": [
    "total_county_data_50.to_csv(\"ca_50.csv\")"
   ]
  },
  {
   "cell_type": "code",
   "execution_count": null,
   "metadata": {},
   "outputs": [],
   "source": [
    "county_codes = city_df['code'].tolist()\n",
    "county_codes_60 = county_codes[51:58]\n",
    "county_codes_60"
   ]
  },
  {
   "cell_type": "code",
   "execution_count": null,
   "metadata": {},
   "outputs": [],
   "source": [
    "total_county_data_60 = pd.DataFrame()\n",
    "for i in county_codes_60:\n",
    "    county_data = \"https://aqs.epa.gov/data/api/dailyData/byCounty?email=\"+gkey+\"&key=\"+key+\"&param=88101&bdate=20140301&edate=20190331&state=06&county=\"+i\n",
    "    print(county_data)\n",
    "    response = requests.get(county_data)\n",
    "    response_json = response.json()\n",
    "    response_json_data = response_json['Data']\n",
    "    county_data =pd.DataFrame.from_dict(response_json_data)\n",
    "    total_county_data_60 = total_county_data_60.append(county_data)\n",
    "    time.sleep(2)\n",
    "total_county_data_60.head()"
   ]
  },
  {
   "cell_type": "code",
   "execution_count": null,
   "metadata": {},
   "outputs": [],
   "source": [
    "total_county_data_60.to_csv(\"ca_60.csv\")"
   ]
  },
  {
   "cell_type": "code",
   "execution_count": null,
   "metadata": {},
   "outputs": [],
   "source": [
    "county_codes = city_df['code'].tolist()\n",
    "county_codes_20 = county_codes[11:20]\n",
    "county_codes_20"
   ]
  },
  {
   "cell_type": "code",
   "execution_count": null,
   "metadata": {},
   "outputs": [],
   "source": [
    "total_county_data_20 = pd.DataFrame()\n",
    "for i in county_codes_20:\n",
    "    county_data = \"https://aqs.epa.gov/data/api/dailyData/byCounty?email=\"+gkey+\"&key=\"+key+\"&param=88101&bdate=20140301&edate=20190331&state=06&county=\"+i\n",
    "    print(county_data)\n",
    "    response = requests.get(county_data)\n",
    "    response_json = response.json()\n",
    "    response_json_data = response_json['Data']\n",
    "    county_data =pd.DataFrame.from_dict(response_json_data)\n",
    "    total_county_data_20 = total_county_data_20.append(county_data)\n",
    "    time.sleep(2)\n",
    "total_county_data_20.head()"
   ]
  },
  {
   "cell_type": "code",
   "execution_count": null,
   "metadata": {},
   "outputs": [],
   "source": [
    "total_county_data_20.to_csv(\"ca_20.csv\")"
   ]
  },
  {
   "cell_type": "markdown",
   "metadata": {},
   "source": [
    "## Step 2: Clean data with pandas"
   ]
  },
  {
   "cell_type": "code",
   "execution_count": 2,
   "metadata": {},
   "outputs": [],
   "source": [
    "total_county_data_10 = df = pd.read_csv('Resources/ca_10.csv')\n",
    "total_county_data_20 = df = pd.read_csv('Resources/ca_20.csv')\n",
    "total_county_data_30 = df = pd.read_csv('Resources/ca_30.csv')\n",
    "total_county_data_40 = df = pd.read_csv('Resources/ca_40.csv')\n",
    "total_county_data_50 = df = pd.read_csv('Resources/ca_50.csv')\n",
    "total_county_data_60 = df = pd.read_csv('Resources/ca_60.csv')"
   ]
  },
  {
   "cell_type": "code",
   "execution_count": 3,
   "metadata": {},
   "outputs": [],
   "source": [
    "frames = [total_county_data_10, total_county_data_20, total_county_data_30,total_county_data_40,total_county_data_50,total_county_data_60]"
   ]
  },
  {
   "cell_type": "code",
   "execution_count": 4,
   "metadata": {},
   "outputs": [
    {
     "data": {
      "text/html": [
       "<div>\n",
       "<style scoped>\n",
       "    .dataframe tbody tr th:only-of-type {\n",
       "        vertical-align: middle;\n",
       "    }\n",
       "\n",
       "    .dataframe tbody tr th {\n",
       "        vertical-align: top;\n",
       "    }\n",
       "\n",
       "    .dataframe thead th {\n",
       "        text-align: right;\n",
       "    }\n",
       "</style>\n",
       "<table border=\"1\" class=\"dataframe\">\n",
       "  <thead>\n",
       "    <tr style=\"text-align: right;\">\n",
       "      <th></th>\n",
       "      <th>Unnamed: 0</th>\n",
       "      <th>aqi</th>\n",
       "      <th>arithmetic_mean</th>\n",
       "      <th>cbsa</th>\n",
       "      <th>cbsa_code</th>\n",
       "      <th>city</th>\n",
       "      <th>county</th>\n",
       "      <th>county_code</th>\n",
       "      <th>date_local</th>\n",
       "      <th>date_of_last_change</th>\n",
       "      <th>...</th>\n",
       "      <th>parameter_code</th>\n",
       "      <th>poc</th>\n",
       "      <th>pollutant_standard</th>\n",
       "      <th>sample_duration</th>\n",
       "      <th>site_address</th>\n",
       "      <th>site_number</th>\n",
       "      <th>state</th>\n",
       "      <th>state_code</th>\n",
       "      <th>units_of_measure</th>\n",
       "      <th>validity_indicator</th>\n",
       "    </tr>\n",
       "  </thead>\n",
       "  <tbody>\n",
       "    <tr>\n",
       "      <th>0</th>\n",
       "      <td>0</td>\n",
       "      <td>18.0</td>\n",
       "      <td>4.2</td>\n",
       "      <td>San Francisco-Oakland-Hayward, CA</td>\n",
       "      <td>41860.0</td>\n",
       "      <td>Livermore</td>\n",
       "      <td>Alameda</td>\n",
       "      <td>1</td>\n",
       "      <td>2019-03-31</td>\n",
       "      <td>2019-08-27</td>\n",
       "      <td>...</td>\n",
       "      <td>88101</td>\n",
       "      <td>3</td>\n",
       "      <td>PM25 24-hour 2006</td>\n",
       "      <td>24-HR BLK AVG</td>\n",
       "      <td>793 Rincon Ave.</td>\n",
       "      <td>7</td>\n",
       "      <td>California</td>\n",
       "      <td>6</td>\n",
       "      <td>Micrograms/cubic meter (LC)</td>\n",
       "      <td>Y</td>\n",
       "    </tr>\n",
       "    <tr>\n",
       "      <th>1</th>\n",
       "      <td>1</td>\n",
       "      <td>16.0</td>\n",
       "      <td>3.9</td>\n",
       "      <td>San Francisco-Oakland-Hayward, CA</td>\n",
       "      <td>41860.0</td>\n",
       "      <td>Livermore</td>\n",
       "      <td>Alameda</td>\n",
       "      <td>1</td>\n",
       "      <td>2019-03-30</td>\n",
       "      <td>2019-08-27</td>\n",
       "      <td>...</td>\n",
       "      <td>88101</td>\n",
       "      <td>3</td>\n",
       "      <td>PM25 24-hour 2006</td>\n",
       "      <td>24-HR BLK AVG</td>\n",
       "      <td>793 Rincon Ave.</td>\n",
       "      <td>7</td>\n",
       "      <td>California</td>\n",
       "      <td>6</td>\n",
       "      <td>Micrograms/cubic meter (LC)</td>\n",
       "      <td>Y</td>\n",
       "    </tr>\n",
       "    <tr>\n",
       "      <th>2</th>\n",
       "      <td>2</td>\n",
       "      <td>8.0</td>\n",
       "      <td>1.8</td>\n",
       "      <td>San Francisco-Oakland-Hayward, CA</td>\n",
       "      <td>41860.0</td>\n",
       "      <td>Livermore</td>\n",
       "      <td>Alameda</td>\n",
       "      <td>1</td>\n",
       "      <td>2019-03-29</td>\n",
       "      <td>2019-08-27</td>\n",
       "      <td>...</td>\n",
       "      <td>88101</td>\n",
       "      <td>3</td>\n",
       "      <td>PM25 24-hour 2006</td>\n",
       "      <td>24-HR BLK AVG</td>\n",
       "      <td>793 Rincon Ave.</td>\n",
       "      <td>7</td>\n",
       "      <td>California</td>\n",
       "      <td>6</td>\n",
       "      <td>Micrograms/cubic meter (LC)</td>\n",
       "      <td>Y</td>\n",
       "    </tr>\n",
       "    <tr>\n",
       "      <th>3</th>\n",
       "      <td>3</td>\n",
       "      <td>19.0</td>\n",
       "      <td>4.5</td>\n",
       "      <td>San Francisco-Oakland-Hayward, CA</td>\n",
       "      <td>41860.0</td>\n",
       "      <td>Livermore</td>\n",
       "      <td>Alameda</td>\n",
       "      <td>1</td>\n",
       "      <td>2019-03-28</td>\n",
       "      <td>2019-08-27</td>\n",
       "      <td>...</td>\n",
       "      <td>88101</td>\n",
       "      <td>3</td>\n",
       "      <td>PM25 24-hour 2006</td>\n",
       "      <td>24-HR BLK AVG</td>\n",
       "      <td>793 Rincon Ave.</td>\n",
       "      <td>7</td>\n",
       "      <td>California</td>\n",
       "      <td>6</td>\n",
       "      <td>Micrograms/cubic meter (LC)</td>\n",
       "      <td>Y</td>\n",
       "    </tr>\n",
       "    <tr>\n",
       "      <th>4</th>\n",
       "      <td>4</td>\n",
       "      <td>9.0</td>\n",
       "      <td>2.1</td>\n",
       "      <td>San Francisco-Oakland-Hayward, CA</td>\n",
       "      <td>41860.0</td>\n",
       "      <td>Livermore</td>\n",
       "      <td>Alameda</td>\n",
       "      <td>1</td>\n",
       "      <td>2019-03-27</td>\n",
       "      <td>2019-08-27</td>\n",
       "      <td>...</td>\n",
       "      <td>88101</td>\n",
       "      <td>3</td>\n",
       "      <td>PM25 24-hour 2006</td>\n",
       "      <td>24-HR BLK AVG</td>\n",
       "      <td>793 Rincon Ave.</td>\n",
       "      <td>7</td>\n",
       "      <td>California</td>\n",
       "      <td>6</td>\n",
       "      <td>Micrograms/cubic meter (LC)</td>\n",
       "      <td>Y</td>\n",
       "    </tr>\n",
       "  </tbody>\n",
       "</table>\n",
       "<p>5 rows × 32 columns</p>\n",
       "</div>"
      ],
      "text/plain": [
       "   Unnamed: 0   aqi  arithmetic_mean                               cbsa  \\\n",
       "0           0  18.0              4.2  San Francisco-Oakland-Hayward, CA   \n",
       "1           1  16.0              3.9  San Francisco-Oakland-Hayward, CA   \n",
       "2           2   8.0              1.8  San Francisco-Oakland-Hayward, CA   \n",
       "3           3  19.0              4.5  San Francisco-Oakland-Hayward, CA   \n",
       "4           4   9.0              2.1  San Francisco-Oakland-Hayward, CA   \n",
       "\n",
       "   cbsa_code       city   county  county_code  date_local date_of_last_change  \\\n",
       "0    41860.0  Livermore  Alameda            1  2019-03-31          2019-08-27   \n",
       "1    41860.0  Livermore  Alameda            1  2019-03-30          2019-08-27   \n",
       "2    41860.0  Livermore  Alameda            1  2019-03-29          2019-08-27   \n",
       "3    41860.0  Livermore  Alameda            1  2019-03-28          2019-08-27   \n",
       "4    41860.0  Livermore  Alameda            1  2019-03-27          2019-08-27   \n",
       "\n",
       "   ... parameter_code poc  pollutant_standard  sample_duration  \\\n",
       "0  ...          88101   3   PM25 24-hour 2006    24-HR BLK AVG   \n",
       "1  ...          88101   3   PM25 24-hour 2006    24-HR BLK AVG   \n",
       "2  ...          88101   3   PM25 24-hour 2006    24-HR BLK AVG   \n",
       "3  ...          88101   3   PM25 24-hour 2006    24-HR BLK AVG   \n",
       "4  ...          88101   3   PM25 24-hour 2006    24-HR BLK AVG   \n",
       "\n",
       "      site_address site_number       state state_code  \\\n",
       "0  793 Rincon Ave.           7  California          6   \n",
       "1  793 Rincon Ave.           7  California          6   \n",
       "2  793 Rincon Ave.           7  California          6   \n",
       "3  793 Rincon Ave.           7  California          6   \n",
       "4  793 Rincon Ave.           7  California          6   \n",
       "\n",
       "              units_of_measure  validity_indicator  \n",
       "0  Micrograms/cubic meter (LC)                   Y  \n",
       "1  Micrograms/cubic meter (LC)                   Y  \n",
       "2  Micrograms/cubic meter (LC)                   Y  \n",
       "3  Micrograms/cubic meter (LC)                   Y  \n",
       "4  Micrograms/cubic meter (LC)                   Y  \n",
       "\n",
       "[5 rows x 32 columns]"
      ]
     },
     "execution_count": 4,
     "metadata": {},
     "output_type": "execute_result"
    }
   ],
   "source": [
    "combined_ca = pd.concat(frames)\n",
    "combined_ca.head()"
   ]
  },
  {
   "cell_type": "code",
   "execution_count": 5,
   "metadata": {},
   "outputs": [
    {
     "data": {
      "text/plain": [
       "Unnamed: 0             780214\n",
       "aqi                    651335\n",
       "arithmetic_mean        780214\n",
       "cbsa                   747466\n",
       "cbsa_code              747466\n",
       "city                   780214\n",
       "county                 780214\n",
       "county_code            780214\n",
       "date_local             780214\n",
       "date_of_last_change    780214\n",
       "datum                  780214\n",
       "event_type             780214\n",
       "first_max_hour         780214\n",
       "first_max_value        780214\n",
       "latitude               780214\n",
       "local_site_name        779904\n",
       "longitude              780214\n",
       "method                 780214\n",
       "method_code            780214\n",
       "observation_count      780214\n",
       "observation_percent    780214\n",
       "parameter              780214\n",
       "parameter_code         780214\n",
       "poc                    780214\n",
       "pollutant_standard     651335\n",
       "sample_duration        780214\n",
       "site_address           780214\n",
       "site_number            780214\n",
       "state                  780214\n",
       "state_code             780214\n",
       "units_of_measure       780214\n",
       "validity_indicator     780214\n",
       "dtype: int64"
      ]
     },
     "execution_count": 5,
     "metadata": {},
     "output_type": "execute_result"
    }
   ],
   "source": [
    "combined_ca.count()"
   ]
  },
  {
   "cell_type": "code",
   "execution_count": 7,
   "metadata": {},
   "outputs": [
    {
     "data": {
      "text/html": [
       "<div>\n",
       "<style scoped>\n",
       "    .dataframe tbody tr th:only-of-type {\n",
       "        vertical-align: middle;\n",
       "    }\n",
       "\n",
       "    .dataframe tbody tr th {\n",
       "        vertical-align: top;\n",
       "    }\n",
       "\n",
       "    .dataframe thead th {\n",
       "        text-align: right;\n",
       "    }\n",
       "</style>\n",
       "<table border=\"1\" class=\"dataframe\">\n",
       "  <thead>\n",
       "    <tr style=\"text-align: right;\">\n",
       "      <th></th>\n",
       "      <th>aqi</th>\n",
       "      <th>cbsa</th>\n",
       "      <th>city</th>\n",
       "      <th>county</th>\n",
       "      <th>county_code</th>\n",
       "      <th>date_local</th>\n",
       "      <th>parameter_code</th>\n",
       "      <th>sample_duration</th>\n",
       "      <th>pollutant_standard</th>\n",
       "      <th>latitude</th>\n",
       "      <th>longitude</th>\n",
       "      <th>state</th>\n",
       "      <th>state_code</th>\n",
       "    </tr>\n",
       "  </thead>\n",
       "  <tbody>\n",
       "    <tr>\n",
       "      <th>0</th>\n",
       "      <td>18.0</td>\n",
       "      <td>San Francisco-Oakland-Hayward, CA</td>\n",
       "      <td>Livermore</td>\n",
       "      <td>Alameda</td>\n",
       "      <td>1</td>\n",
       "      <td>2019-03-31</td>\n",
       "      <td>88101</td>\n",
       "      <td>24-HR BLK AVG</td>\n",
       "      <td>PM25 24-hour 2006</td>\n",
       "      <td>37.687526</td>\n",
       "      <td>-121.784217</td>\n",
       "      <td>California</td>\n",
       "      <td>6</td>\n",
       "    </tr>\n",
       "    <tr>\n",
       "      <th>1</th>\n",
       "      <td>16.0</td>\n",
       "      <td>San Francisco-Oakland-Hayward, CA</td>\n",
       "      <td>Livermore</td>\n",
       "      <td>Alameda</td>\n",
       "      <td>1</td>\n",
       "      <td>2019-03-30</td>\n",
       "      <td>88101</td>\n",
       "      <td>24-HR BLK AVG</td>\n",
       "      <td>PM25 24-hour 2006</td>\n",
       "      <td>37.687526</td>\n",
       "      <td>-121.784217</td>\n",
       "      <td>California</td>\n",
       "      <td>6</td>\n",
       "    </tr>\n",
       "    <tr>\n",
       "      <th>2</th>\n",
       "      <td>8.0</td>\n",
       "      <td>San Francisco-Oakland-Hayward, CA</td>\n",
       "      <td>Livermore</td>\n",
       "      <td>Alameda</td>\n",
       "      <td>1</td>\n",
       "      <td>2019-03-29</td>\n",
       "      <td>88101</td>\n",
       "      <td>24-HR BLK AVG</td>\n",
       "      <td>PM25 24-hour 2006</td>\n",
       "      <td>37.687526</td>\n",
       "      <td>-121.784217</td>\n",
       "      <td>California</td>\n",
       "      <td>6</td>\n",
       "    </tr>\n",
       "    <tr>\n",
       "      <th>3</th>\n",
       "      <td>19.0</td>\n",
       "      <td>San Francisco-Oakland-Hayward, CA</td>\n",
       "      <td>Livermore</td>\n",
       "      <td>Alameda</td>\n",
       "      <td>1</td>\n",
       "      <td>2019-03-28</td>\n",
       "      <td>88101</td>\n",
       "      <td>24-HR BLK AVG</td>\n",
       "      <td>PM25 24-hour 2006</td>\n",
       "      <td>37.687526</td>\n",
       "      <td>-121.784217</td>\n",
       "      <td>California</td>\n",
       "      <td>6</td>\n",
       "    </tr>\n",
       "    <tr>\n",
       "      <th>4</th>\n",
       "      <td>9.0</td>\n",
       "      <td>San Francisco-Oakland-Hayward, CA</td>\n",
       "      <td>Livermore</td>\n",
       "      <td>Alameda</td>\n",
       "      <td>1</td>\n",
       "      <td>2019-03-27</td>\n",
       "      <td>88101</td>\n",
       "      <td>24-HR BLK AVG</td>\n",
       "      <td>PM25 24-hour 2006</td>\n",
       "      <td>37.687526</td>\n",
       "      <td>-121.784217</td>\n",
       "      <td>California</td>\n",
       "      <td>6</td>\n",
       "    </tr>\n",
       "  </tbody>\n",
       "</table>\n",
       "</div>"
      ],
      "text/plain": [
       "    aqi                               cbsa       city   county  county_code  \\\n",
       "0  18.0  San Francisco-Oakland-Hayward, CA  Livermore  Alameda            1   \n",
       "1  16.0  San Francisco-Oakland-Hayward, CA  Livermore  Alameda            1   \n",
       "2   8.0  San Francisco-Oakland-Hayward, CA  Livermore  Alameda            1   \n",
       "3  19.0  San Francisco-Oakland-Hayward, CA  Livermore  Alameda            1   \n",
       "4   9.0  San Francisco-Oakland-Hayward, CA  Livermore  Alameda            1   \n",
       "\n",
       "   date_local  parameter_code sample_duration pollutant_standard   latitude  \\\n",
       "0  2019-03-31           88101   24-HR BLK AVG  PM25 24-hour 2006  37.687526   \n",
       "1  2019-03-30           88101   24-HR BLK AVG  PM25 24-hour 2006  37.687526   \n",
       "2  2019-03-29           88101   24-HR BLK AVG  PM25 24-hour 2006  37.687526   \n",
       "3  2019-03-28           88101   24-HR BLK AVG  PM25 24-hour 2006  37.687526   \n",
       "4  2019-03-27           88101   24-HR BLK AVG  PM25 24-hour 2006  37.687526   \n",
       "\n",
       "    longitude       state  state_code  \n",
       "0 -121.784217  California           6  \n",
       "1 -121.784217  California           6  \n",
       "2 -121.784217  California           6  \n",
       "3 -121.784217  California           6  \n",
       "4 -121.784217  California           6  "
      ]
     },
     "execution_count": 7,
     "metadata": {},
     "output_type": "execute_result"
    }
   ],
   "source": [
    "ca_clean = combined_ca[['aqi','cbsa','city','county','county_code','date_local','parameter_code','sample_duration','pollutant_standard','latitude','longitude','state','state_code']]\n",
    "ca_clean.head()"
   ]
  },
  {
   "cell_type": "code",
   "execution_count": 8,
   "metadata": {},
   "outputs": [
    {
     "data": {
      "text/plain": [
       "aqi                   162822\n",
       "cbsa                  156150\n",
       "city                  162822\n",
       "county                162822\n",
       "county_code           162822\n",
       "date_local            162822\n",
       "parameter_code        162822\n",
       "sample_duration       162822\n",
       "pollutant_standard    162822\n",
       "latitude              162822\n",
       "longitude             162822\n",
       "state                 162822\n",
       "state_code            162822\n",
       "dtype: int64"
      ]
     },
     "execution_count": 8,
     "metadata": {},
     "output_type": "execute_result"
    }
   ],
   "source": [
    "ca_clean = ca_clean.loc[ca_clean['pollutant_standard'] == \"PM25 24-hour 2012\"]\n",
    "ca_clean =ca_clean.loc[ca_clean['sample_duration'] != \"1 HOUR\"]\n",
    "ca_clean.count()"
   ]
  },
  {
   "cell_type": "code",
   "execution_count": 8,
   "metadata": {},
   "outputs": [],
   "source": [
    "# ca_clean.to_excel(\"ca_clean.xlsx\")"
   ]
  },
  {
   "cell_type": "code",
   "execution_count": 12,
   "metadata": {},
   "outputs": [
    {
     "data": {
      "text/html": [
       "<div>\n",
       "<style scoped>\n",
       "    .dataframe tbody tr th:only-of-type {\n",
       "        vertical-align: middle;\n",
       "    }\n",
       "\n",
       "    .dataframe tbody tr th {\n",
       "        vertical-align: top;\n",
       "    }\n",
       "\n",
       "    .dataframe thead th {\n",
       "        text-align: right;\n",
       "    }\n",
       "</style>\n",
       "<table border=\"1\" class=\"dataframe\">\n",
       "  <thead>\n",
       "    <tr style=\"text-align: right;\">\n",
       "      <th></th>\n",
       "      <th>date_local</th>\n",
       "      <th>county_code</th>\n",
       "      <th>aqi</th>\n",
       "      <th>parameter_code</th>\n",
       "      <th>latitude</th>\n",
       "      <th>longitude</th>\n",
       "      <th>state_code</th>\n",
       "    </tr>\n",
       "  </thead>\n",
       "  <tbody>\n",
       "    <tr>\n",
       "      <th>0</th>\n",
       "      <td>2014-03-01</td>\n",
       "      <td>1</td>\n",
       "      <td>15.0</td>\n",
       "      <td>88101</td>\n",
       "      <td>37.759749</td>\n",
       "      <td>-122.124969</td>\n",
       "      <td>6</td>\n",
       "    </tr>\n",
       "    <tr>\n",
       "      <th>1</th>\n",
       "      <td>2014-03-01</td>\n",
       "      <td>7</td>\n",
       "      <td>9.0</td>\n",
       "      <td>88101</td>\n",
       "      <td>39.761680</td>\n",
       "      <td>-121.840470</td>\n",
       "      <td>6</td>\n",
       "    </tr>\n",
       "    <tr>\n",
       "      <th>2</th>\n",
       "      <td>2014-03-01</td>\n",
       "      <td>9</td>\n",
       "      <td>18.0</td>\n",
       "      <td>88101</td>\n",
       "      <td>38.201850</td>\n",
       "      <td>-120.680277</td>\n",
       "      <td>6</td>\n",
       "    </tr>\n",
       "    <tr>\n",
       "      <th>3</th>\n",
       "      <td>2014-03-01</td>\n",
       "      <td>11</td>\n",
       "      <td>10.0</td>\n",
       "      <td>88101</td>\n",
       "      <td>39.021221</td>\n",
       "      <td>-122.281803</td>\n",
       "      <td>6</td>\n",
       "    </tr>\n",
       "    <tr>\n",
       "      <th>4</th>\n",
       "      <td>2014-03-01</td>\n",
       "      <td>13</td>\n",
       "      <td>28.0</td>\n",
       "      <td>88101</td>\n",
       "      <td>37.948206</td>\n",
       "      <td>-122.191483</td>\n",
       "      <td>6</td>\n",
       "    </tr>\n",
       "  </tbody>\n",
       "</table>\n",
       "</div>"
      ],
      "text/plain": [
       "   date_local  county_code   aqi  parameter_code   latitude   longitude  \\\n",
       "0  2014-03-01            1  15.0           88101  37.759749 -122.124969   \n",
       "1  2014-03-01            7   9.0           88101  39.761680 -121.840470   \n",
       "2  2014-03-01            9  18.0           88101  38.201850 -120.680277   \n",
       "3  2014-03-01           11  10.0           88101  39.021221 -122.281803   \n",
       "4  2014-03-01           13  28.0           88101  37.948206 -122.191483   \n",
       "\n",
       "   state_code  \n",
       "0           6  \n",
       "1           6  \n",
       "2           6  \n",
       "3           6  \n",
       "4           6  "
      ]
     },
     "execution_count": 12,
     "metadata": {},
     "output_type": "execute_result"
    }
   ],
   "source": [
    "# group data by day and county to get avg aqi\n",
    "ca_avg = ca_clean.groupby(['date_local','county_code']).mean()\n",
    "ca_avg.reset_index().head()\n"
   ]
  },
  {
   "cell_type": "code",
   "execution_count": null,
   "metadata": {},
   "outputs": [],
   "source": []
  },
  {
   "cell_type": "code",
   "execution_count": null,
   "metadata": {},
   "outputs": [],
   "source": []
  },
  {
   "cell_type": "code",
   "execution_count": null,
   "metadata": {},
   "outputs": [],
   "source": []
  },
  {
   "cell_type": "code",
   "execution_count": null,
   "metadata": {},
   "outputs": [],
   "source": []
  },
  {
   "cell_type": "code",
   "execution_count": null,
   "metadata": {},
   "outputs": [],
   "source": []
  },
  {
   "cell_type": "code",
   "execution_count": null,
   "metadata": {},
   "outputs": [],
   "source": [
    "#choose only \"pm2.5 24h standard\"\n",
    "sf_df_new = sf_df.loc[sf_df['pollutant_standard']==\"PM25 24-hour 2012\"]\n",
    "sf_df_new.head()"
   ]
  },
  {
   "cell_type": "code",
   "execution_count": null,
   "metadata": {},
   "outputs": [],
   "source": [
    "#get min,max,mean\n",
    "aqi_min = sf_df_new['aqi'].min()\n",
    "aqi_max =sf_df_new['aqi'].max()\n",
    "aqi_mean = sf_df_new['aqi'].mean()\n",
    "\n",
    "print(aqi_min)\n",
    "print(aqi_max)\n",
    "print(aqi_mean)"
   ]
  },
  {
   "cell_type": "code",
   "execution_count": null,
   "metadata": {},
   "outputs": [],
   "source": [
    "# summurize data in categories\n",
    "size_bins = [0,50,100,150,200,300,500]\n",
    "size_names= ['good','Moderate','Unhealthy for sensitive groups','unhealthy','very unhealthy','hazardous']\n",
    "sf_df_bin = sf_df_new[['date_local']].groupby(pd.cut(sf_df_new['aqi'],bins=size_bins,labels=size_names)).count()\n",
    "sf_df_bin"
   ]
  },
  {
   "cell_type": "markdown",
   "metadata": {},
   "source": [
    "## Step 3: export data to the database"
   ]
  },
  {
   "cell_type": "code",
   "execution_count": 10,
   "metadata": {},
   "outputs": [
    {
     "data": {
      "text/plain": [
       "<pymongo.results.InsertManyResult at 0x24f6ad2d248>"
      ]
     },
     "execution_count": 10,
     "metadata": {},
     "output_type": "execute_result"
    }
   ],
   "source": [
    "#activate mongod environment in terminal before running this cell\n",
    "conn = 'mongodb://localhost:27017'\n",
    "client = pymongo.MongoClient(conn)\n",
    "\n",
    "# 'testdb' is the name of the database\n",
    "db = client.ca_data\n",
    "\n",
    "# testcollection is the name of the collection\n",
    "collection = db['ca_data']\n",
    "collection2 = db['ca_avg']\n",
    "\n",
    "# this line stays the same\n",
    "collection.insert_many(ca_clean.to_dict('records'))\n",
    "collection2.insert_many(ca_av)"
   ]
  }
 ],
 "metadata": {
  "kernelspec": {
   "display_name": "Python 3",
   "language": "python",
   "name": "python3"
  },
  "language_info": {
   "codemirror_mode": {
    "name": "ipython",
    "version": 3
   },
   "file_extension": ".py",
   "mimetype": "text/x-python",
   "name": "python",
   "nbconvert_exporter": "python",
   "pygments_lexer": "ipython3",
   "version": "3.7.3"
  }
 },
 "nbformat": 4,
 "nbformat_minor": 2
}
