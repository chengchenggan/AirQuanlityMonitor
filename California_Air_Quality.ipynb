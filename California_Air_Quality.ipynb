{
 "cells": [
  {
   "cell_type": "markdown",
   "metadata": {},
   "source": [
    "# Import Dependencies"
   ]
  },
  {
   "cell_type": "code",
   "execution_count": 1,
   "metadata": {},
   "outputs": [],
   "source": [
    "import pandas as pd\n",
    "from sqlalchemy import create_engine\n",
    "import json\n",
    "from pandas.io.json import json_normalize\n",
    "import requests\n",
    "from config import key\n",
    "from config import gkey\n",
    "import time\n",
    "import pymongo\n",
    "import string\n",
    "import json"
   ]
  },
  {
   "cell_type": "markdown",
   "metadata": {},
   "source": [
    "# Step 1: Pull Data"
   ]
  },
  {
   "cell_type": "markdown",
   "metadata": {},
   "source": [
    "### Identify which API calls to make"
   ]
  },
  {
   "cell_type": "code",
   "execution_count": null,
   "metadata": {},
   "outputs": [],
   "source": [
    "# get state codes\n",
    "state_url = \"https://aqs.epa.gov/data/api/list/states?email=\"+gkey+\"&key=\"+key\n",
    "response = requests.get(state_url)\n",
    "response_json = response.json()\n",
    "response_json_data = response_json['Data']\n",
    "#print(response_json_data)\n",
    "state_df = pd.DataFrame.from_dict(response_json_data)\n",
    "state_df.head()"
   ]
  },
  {
   "cell_type": "code",
   "execution_count": null,
   "metadata": {},
   "outputs": [],
   "source": [
    "# get county codes\n",
    "county_url = \"https://aqs.epa.gov/data/api/list/countiesByState?email=\"+gkey +\"&key=\"+key+\"&state=06\"\n",
    "print(county_url)\n",
    "response = requests.get(county_url)\n",
    "response_json = response.json()\n",
    "response_json_data = response_json['Data']\n",
    "#print(response_json_data)\n",
    "county_df = pd.DataFrame.from_dict(response_json_data)\n",
    "county_df.head()"
   ]
  },
  {
   "cell_type": "code",
   "execution_count": null,
   "metadata": {},
   "outputs": [],
   "source": [
    "#CBSAs code\": \"41860\",\n",
    "#      \"value_represented\": \"San Francisco-Oakland-Hayward, CA\n",
    "\n",
    "#  \"Parameter code\": \"PM2.5 CONT NONREF\",\n",
    "#       \"value_represented\": \"PM2.5 Continuous, Nonreference Methods\"\n",
    "#     },\n",
    "#     {\n",
    "#       \"code\": \"PM2.5 MASS/QA\",\n",
    "#       \"value_represented\": \"PM2.5 Mass and QA Parameters\"\n",
    "\n",
    "\n",
    "# \"CRITERIA code\": \"88101\",\n",
    "#       \"value_represented\": \"PM2.5 - Local Conditions\""
   ]
  },
  {
   "cell_type": "code",
   "execution_count": null,
   "metadata": {},
   "outputs": [],
   "source": [
    "## get current 5y PM 2.5 data for SF\n",
    "# https://aqs.epa.gov/data/api/sampleData/byCBSA?email=test@aqs.api&key=test&param=42602&bdate=20170101&edate=20170101&cbsa=16740\n",
    "# sf_url = \"https://aqs.epa.gov/data/api/sampleData/byCBSA?email=\"+gkey+\"&key=\"+key+\"&param=88101&bdate=20190101&edate=20190101&cbsa=41860\"\n",
    "\n",
    "# sf_url = \"https://aqs.epa.gov/data/api/dailyData/byCounty?email=\"+gkey+\"&key=\"+key+\"&param=88101&bdate=20140301&edate=20190331&state=06&county=075\"\n",
    "# print(sf_url)\n",
    "# response = requests.get(sf_url)\n",
    "# response_json = response.json()\n",
    "## print(response_json)\n",
    "# response_json_data = response_json['Data']\n",
    "## print(response_json_data)\n",
    "# sf_df = pd.DataFrame.from_dict(response_json_data)\n",
    "# sf_df.head()\n",
    "#h ttps://aqs.epa.gov/data/api/monitors/byState?email=test@aqs.api&key=test&param=42401&bdate=20150501&edate=20150502&state=15"
   ]
  },
  {
   "cell_type": "markdown",
   "metadata": {},
   "source": [
    "### Start gathering data"
   ]
  },
  {
   "cell_type": "code",
   "execution_count": null,
   "metadata": {},
   "outputs": [],
   "source": [
    "# identify first set of 10 california counties\n",
    "county_codes = city_df['code'].tolist()\n",
    "county_codes_10 = county_codes[0:10]\n",
    "county_codes_10"
   ]
  },
  {
   "cell_type": "code",
   "execution_count": null,
   "metadata": {},
   "outputs": [],
   "source": [
    "# get 5 year California data for counties\n",
    "total_county_data_10 = pd.DataFrame()\n",
    "for i in county_codes_10:\n",
    "    county_data = \"https://aqs.epa.gov/data/api/dailyData/byCounty?email=\"+gkey+\"&key=\"+key+\"&param=88101&bdate=20140301&edate=20190331&state=06&county=\"+i\n",
    "    print(county_data)\n",
    "    response = requests.get(county_data)\n",
    "    response_json = response.json()\n",
    "    response_json_data = response_json['Data']\n",
    "    county_data =pd.DataFrame.from_dict(response_json_data)\n",
    "    total_county_data_10 = total_county_data_10.append(county_data)\n",
    "    time.sleep(2)\n",
    "total_county_data_10.head()"
   ]
  },
  {
   "cell_type": "code",
   "execution_count": null,
   "metadata": {},
   "outputs": [],
   "source": [
    "# convert to csv as a backup\n",
    "total_county_data_10.to_csv(\"Resources/ca_10.csv\")"
   ]
  },
  {
   "cell_type": "code",
   "execution_count": null,
   "metadata": {},
   "outputs": [],
   "source": [
    "# identify second set of 10 california counties\n",
    "county_codes = city_df['code'].tolist()\n",
    "county_codes_20 = county_codes[11:20]\n",
    "county_codes_20"
   ]
  },
  {
   "cell_type": "code",
   "execution_count": null,
   "metadata": {},
   "outputs": [],
   "source": [
    "# get 5 year California data for counties\n",
    "total_county_data_20 = pd.DataFrame()\n",
    "for i in county_codes_20:\n",
    "    county_data = \"https://aqs.epa.gov/data/api/dailyData/byCounty?email=\"+gkey+\"&key=\"+key+\"&param=88101&bdate=20140301&edate=20190331&state=06&county=\"+i\n",
    "    print(county_data)\n",
    "    response = requests.get(county_data)\n",
    "    response_json = response.json()\n",
    "    response_json_data = response_json['Data']\n",
    "    county_data =pd.DataFrame.from_dict(response_json_data)\n",
    "    total_county_data_20 = total_county_data_20.append(county_data)\n",
    "    time.sleep(2)\n",
    "total_county_data_20.head()"
   ]
  },
  {
   "cell_type": "code",
   "execution_count": null,
   "metadata": {},
   "outputs": [],
   "source": [
    "# convert to csv as a backup\n",
    "total_county_data_20.to_csv(\"Resources/ca_20.csv\")"
   ]
  },
  {
   "cell_type": "code",
   "execution_count": null,
   "metadata": {},
   "outputs": [],
   "source": [
    "# identify third set of 10 california counties\n",
    "county_codes = city_df['code'].tolist()\n",
    "county_codes_30 = county_codes[21:30]\n",
    "county_codes_30"
   ]
  },
  {
   "cell_type": "code",
   "execution_count": null,
   "metadata": {},
   "outputs": [],
   "source": [
    "# get 5 year California data for counties\n",
    "total_county_data_30 = pd.DataFrame()\n",
    "for i in county_codes_30:\n",
    "    county_data = \"https://aqs.epa.gov/data/api/dailyData/byCounty?email=\"+gkey+\"&key=\"+key+\"&param=88101&bdate=20140301&edate=20190331&state=06&county=\"+i\n",
    "    print(county_data)\n",
    "    response = requests.get(county_data)\n",
    "    response_json = response.json()\n",
    "    response_json_data = response_json['Data']\n",
    "    county_data =pd.DataFrame.from_dict(response_json_data)\n",
    "    total_county_data_30 = total_county_data_30.append(county_data)\n",
    "    time.sleep(2)\n",
    "total_county_data_30.head()"
   ]
  },
  {
   "cell_type": "code",
   "execution_count": null,
   "metadata": {},
   "outputs": [],
   "source": [
    "# convert to csv as a backup\n",
    "total_county_data_30.to_csv(\"Resources/ca_30.csv\")"
   ]
  },
  {
   "cell_type": "code",
   "execution_count": null,
   "metadata": {},
   "outputs": [],
   "source": [
    "# identify fourth set of 10 california counties\n",
    "county_codes = city_df['code'].tolist()\n",
    "county_codes_40 = county_codes[31:40]\n",
    "county_codes_40"
   ]
  },
  {
   "cell_type": "code",
   "execution_count": null,
   "metadata": {},
   "outputs": [],
   "source": [
    "# get 5 year California data for counties\n",
    "total_county_data_40 = pd.DataFrame()\n",
    "for i in county_codes_40:\n",
    "    county_data = \"https://aqs.epa.gov/data/api/dailyData/byCounty?email=\"+gkey+\"&key=\"+key+\"&param=88101&bdate=20140301&edate=20190331&state=06&county=\"+i\n",
    "    print(county_data)\n",
    "    response = requests.get(county_data)\n",
    "    response_json = response.json()\n",
    "    response_json_data = response_json['Data']\n",
    "    county_data =pd.DataFrame.from_dict(response_json_data)\n",
    "    total_county_data_40 = total_county_data_40.append(county_data)\n",
    "    time.sleep(2)\n",
    "total_county_data_40.head()"
   ]
  },
  {
   "cell_type": "code",
   "execution_count": null,
   "metadata": {},
   "outputs": [],
   "source": [
    "# convert to csv as a backup\n",
    "total_county_data_40.to_csv(\"Resources/ca_40.csv\")"
   ]
  },
  {
   "cell_type": "code",
   "execution_count": null,
   "metadata": {},
   "outputs": [],
   "source": [
    "# identify fifth set of 10 california counties\n",
    "county_codes = city_df['code'].tolist()\n",
    "county_codes_50 = county_codes[41:50]\n",
    "county_codes_50"
   ]
  },
  {
   "cell_type": "code",
   "execution_count": null,
   "metadata": {},
   "outputs": [],
   "source": [
    "# get 5 year California data for counties\n",
    "total_county_data_50 = pd.DataFrame()\n",
    "for i in county_codes_50:\n",
    "    county_data = \"https://aqs.epa.gov/data/api/dailyData/byCounty?email=\"+gkey+\"&key=\"+key+\"&param=88101&bdate=20140301&edate=20190331&state=06&county=\"+i\n",
    "    print(county_data)\n",
    "    response = requests.get(county_data)\n",
    "    response_json = response.json()\n",
    "    response_json_data = response_json['Data']\n",
    "    county_data =pd.DataFrame.from_dict(response_json_data)\n",
    "    total_county_data_50 = total_county_data_50.append(county_data)\n",
    "    time.sleep(2)\n",
    "total_county_data_50.head()"
   ]
  },
  {
   "cell_type": "code",
   "execution_count": null,
   "metadata": {},
   "outputs": [],
   "source": [
    "# convert to csv as a backup\n",
    "total_county_data_50.to_csv(\"Resources/ca_50.csv\")"
   ]
  },
  {
   "cell_type": "code",
   "execution_count": null,
   "metadata": {},
   "outputs": [],
   "source": [
    "# identify last set of california counties\n",
    "county_codes = city_df['code'].tolist()\n",
    "county_codes_60 = county_codes[51:58]\n",
    "county_codes_60"
   ]
  },
  {
   "cell_type": "code",
   "execution_count": null,
   "metadata": {},
   "outputs": [],
   "source": [
    "# get 5 year California data for counties\n",
    "total_county_data_60 = pd.DataFrame()\n",
    "for i in county_codes_60:\n",
    "    county_data = \"https://aqs.epa.gov/data/api/dailyData/byCounty?email=\"+gkey+\"&key=\"+key+\"&param=88101&bdate=20140301&edate=20190331&state=06&county=\"+i\n",
    "    print(county_data)\n",
    "    response = requests.get(county_data)\n",
    "    response_json = response.json()\n",
    "    response_json_data = response_json['Data']\n",
    "    county_data =pd.DataFrame.from_dict(response_json_data)\n",
    "    total_county_data_60 = total_county_data_60.append(county_data)\n",
    "    time.sleep(2)\n",
    "total_county_data_60.head()"
   ]
  },
  {
   "cell_type": "code",
   "execution_count": null,
   "metadata": {},
   "outputs": [],
   "source": [
    "# convert to csv as a backup\n",
    "total_county_data_60.to_csv(\"Resources/ca_60.csv\")"
   ]
  },
  {
   "cell_type": "markdown",
   "metadata": {},
   "source": [
    "## Step 2: Clean Data"
   ]
  },
  {
   "cell_type": "markdown",
   "metadata": {},
   "source": [
    "### Import data from backup and combine"
   ]
  },
  {
   "cell_type": "code",
   "execution_count": 2,
   "metadata": {},
   "outputs": [],
   "source": [
    "total_county_data_10 = df = pd.read_csv('Resources/ca_10.csv')\n",
    "total_county_data_20 = df = pd.read_csv('Resources/ca_20.csv')\n",
    "total_county_data_30 = df = pd.read_csv('Resources/ca_30.csv')\n",
    "total_county_data_40 = df = pd.read_csv('Resources/ca_40.csv')\n",
    "total_county_data_50 = df = pd.read_csv('Resources/ca_50.csv')\n",
    "total_county_data_60 = df = pd.read_csv('Resources/ca_60.csv')"
   ]
  },
  {
   "cell_type": "code",
   "execution_count": 4,
   "metadata": {},
   "outputs": [],
   "source": [
    "frames = [total_county_data_10, total_county_data_20, total_county_data_30,total_county_data_40,total_county_data_50,total_county_data_60]"
   ]
  },
  {
   "cell_type": "code",
   "execution_count": 5,
   "metadata": {},
   "outputs": [
    {
     "data": {
      "text/plain": [
       "Unnamed: 0             780214\n",
       "aqi                    651335\n",
       "arithmetic_mean        780214\n",
       "cbsa                   747466\n",
       "cbsa_code              747466\n",
       "city                   780214\n",
       "county                 780214\n",
       "county_code            780214\n",
       "date_local             780214\n",
       "date_of_last_change    780214\n",
       "datum                  780214\n",
       "event_type             780214\n",
       "first_max_hour         780214\n",
       "first_max_value        780214\n",
       "latitude               780214\n",
       "local_site_name        779904\n",
       "longitude              780214\n",
       "method                 780214\n",
       "method_code            780214\n",
       "observation_count      780214\n",
       "observation_percent    780214\n",
       "parameter              780214\n",
       "parameter_code         780214\n",
       "poc                    780214\n",
       "pollutant_standard     651335\n",
       "sample_duration        780214\n",
       "site_address           780214\n",
       "site_number            780214\n",
       "state                  780214\n",
       "state_code             780214\n",
       "units_of_measure       780214\n",
       "validity_indicator     780214\n",
       "dtype: int64"
      ]
     },
     "execution_count": 5,
     "metadata": {},
     "output_type": "execute_result"
    }
   ],
   "source": [
    "combined_ca = pd.concat(frames)\n",
    "# combined_ca.head()\n",
    "combined_ca.count()"
   ]
  },
  {
   "cell_type": "markdown",
   "metadata": {},
   "source": [
    "### limit columns to desired variables"
   ]
  },
  {
   "cell_type": "code",
   "execution_count": 6,
   "metadata": {},
   "outputs": [
    {
     "data": {
      "text/html": [
       "<div>\n",
       "<style scoped>\n",
       "    .dataframe tbody tr th:only-of-type {\n",
       "        vertical-align: middle;\n",
       "    }\n",
       "\n",
       "    .dataframe tbody tr th {\n",
       "        vertical-align: top;\n",
       "    }\n",
       "\n",
       "    .dataframe thead th {\n",
       "        text-align: right;\n",
       "    }\n",
       "</style>\n",
       "<table border=\"1\" class=\"dataframe\">\n",
       "  <thead>\n",
       "    <tr style=\"text-align: right;\">\n",
       "      <th></th>\n",
       "      <th>aqi</th>\n",
       "      <th>cbsa</th>\n",
       "      <th>city</th>\n",
       "      <th>county</th>\n",
       "      <th>county_code</th>\n",
       "      <th>date_local</th>\n",
       "      <th>parameter_code</th>\n",
       "      <th>sample_duration</th>\n",
       "      <th>pollutant_standard</th>\n",
       "      <th>latitude</th>\n",
       "      <th>longitude</th>\n",
       "      <th>state</th>\n",
       "      <th>state_code</th>\n",
       "    </tr>\n",
       "  </thead>\n",
       "  <tbody>\n",
       "    <tr>\n",
       "      <th>0</th>\n",
       "      <td>18.0</td>\n",
       "      <td>San Francisco-Oakland-Hayward, CA</td>\n",
       "      <td>Livermore</td>\n",
       "      <td>Alameda</td>\n",
       "      <td>1</td>\n",
       "      <td>2019-03-31</td>\n",
       "      <td>88101</td>\n",
       "      <td>24-HR BLK AVG</td>\n",
       "      <td>PM25 24-hour 2006</td>\n",
       "      <td>37.687526</td>\n",
       "      <td>-121.784217</td>\n",
       "      <td>California</td>\n",
       "      <td>6</td>\n",
       "    </tr>\n",
       "    <tr>\n",
       "      <th>1</th>\n",
       "      <td>16.0</td>\n",
       "      <td>San Francisco-Oakland-Hayward, CA</td>\n",
       "      <td>Livermore</td>\n",
       "      <td>Alameda</td>\n",
       "      <td>1</td>\n",
       "      <td>2019-03-30</td>\n",
       "      <td>88101</td>\n",
       "      <td>24-HR BLK AVG</td>\n",
       "      <td>PM25 24-hour 2006</td>\n",
       "      <td>37.687526</td>\n",
       "      <td>-121.784217</td>\n",
       "      <td>California</td>\n",
       "      <td>6</td>\n",
       "    </tr>\n",
       "    <tr>\n",
       "      <th>2</th>\n",
       "      <td>8.0</td>\n",
       "      <td>San Francisco-Oakland-Hayward, CA</td>\n",
       "      <td>Livermore</td>\n",
       "      <td>Alameda</td>\n",
       "      <td>1</td>\n",
       "      <td>2019-03-29</td>\n",
       "      <td>88101</td>\n",
       "      <td>24-HR BLK AVG</td>\n",
       "      <td>PM25 24-hour 2006</td>\n",
       "      <td>37.687526</td>\n",
       "      <td>-121.784217</td>\n",
       "      <td>California</td>\n",
       "      <td>6</td>\n",
       "    </tr>\n",
       "    <tr>\n",
       "      <th>3</th>\n",
       "      <td>19.0</td>\n",
       "      <td>San Francisco-Oakland-Hayward, CA</td>\n",
       "      <td>Livermore</td>\n",
       "      <td>Alameda</td>\n",
       "      <td>1</td>\n",
       "      <td>2019-03-28</td>\n",
       "      <td>88101</td>\n",
       "      <td>24-HR BLK AVG</td>\n",
       "      <td>PM25 24-hour 2006</td>\n",
       "      <td>37.687526</td>\n",
       "      <td>-121.784217</td>\n",
       "      <td>California</td>\n",
       "      <td>6</td>\n",
       "    </tr>\n",
       "    <tr>\n",
       "      <th>4</th>\n",
       "      <td>9.0</td>\n",
       "      <td>San Francisco-Oakland-Hayward, CA</td>\n",
       "      <td>Livermore</td>\n",
       "      <td>Alameda</td>\n",
       "      <td>1</td>\n",
       "      <td>2019-03-27</td>\n",
       "      <td>88101</td>\n",
       "      <td>24-HR BLK AVG</td>\n",
       "      <td>PM25 24-hour 2006</td>\n",
       "      <td>37.687526</td>\n",
       "      <td>-121.784217</td>\n",
       "      <td>California</td>\n",
       "      <td>6</td>\n",
       "    </tr>\n",
       "  </tbody>\n",
       "</table>\n",
       "</div>"
      ],
      "text/plain": [
       "    aqi                               cbsa       city   county  county_code  \\\n",
       "0  18.0  San Francisco-Oakland-Hayward, CA  Livermore  Alameda            1   \n",
       "1  16.0  San Francisco-Oakland-Hayward, CA  Livermore  Alameda            1   \n",
       "2   8.0  San Francisco-Oakland-Hayward, CA  Livermore  Alameda            1   \n",
       "3  19.0  San Francisco-Oakland-Hayward, CA  Livermore  Alameda            1   \n",
       "4   9.0  San Francisco-Oakland-Hayward, CA  Livermore  Alameda            1   \n",
       "\n",
       "   date_local  parameter_code sample_duration pollutant_standard   latitude  \\\n",
       "0  2019-03-31           88101   24-HR BLK AVG  PM25 24-hour 2006  37.687526   \n",
       "1  2019-03-30           88101   24-HR BLK AVG  PM25 24-hour 2006  37.687526   \n",
       "2  2019-03-29           88101   24-HR BLK AVG  PM25 24-hour 2006  37.687526   \n",
       "3  2019-03-28           88101   24-HR BLK AVG  PM25 24-hour 2006  37.687526   \n",
       "4  2019-03-27           88101   24-HR BLK AVG  PM25 24-hour 2006  37.687526   \n",
       "\n",
       "    longitude       state  state_code  \n",
       "0 -121.784217  California           6  \n",
       "1 -121.784217  California           6  \n",
       "2 -121.784217  California           6  \n",
       "3 -121.784217  California           6  \n",
       "4 -121.784217  California           6  "
      ]
     },
     "execution_count": 6,
     "metadata": {},
     "output_type": "execute_result"
    }
   ],
   "source": [
    "ca_clean = combined_ca[['aqi','cbsa','city','county','county_code','date_local','parameter_code','sample_duration','pollutant_standard','latitude','longitude','state','state_code']]\n",
    "# ca_clean['county_code'] = ca_clean['county_code'].str.zfill(3)\n",
    "ca_clean.head()\n",
    "# ca_clean.count()"
   ]
  },
  {
   "cell_type": "code",
   "execution_count": 7,
   "metadata": {},
   "outputs": [
    {
     "name": "stderr",
     "output_type": "stream",
     "text": [
      "/anaconda3/lib/python3.7/site-packages/ipykernel_launcher.py:4: SettingWithCopyWarning: \n",
      "A value is trying to be set on a copy of a slice from a DataFrame.\n",
      "Try using .loc[row_indexer,col_indexer] = value instead\n",
      "\n",
      "See the caveats in the documentation: http://pandas.pydata.org/pandas-docs/stable/indexing.html#indexing-view-versus-copy\n",
      "  after removing the cwd from sys.path.\n",
      "/anaconda3/lib/python3.7/site-packages/ipykernel_launcher.py:5: SettingWithCopyWarning: \n",
      "A value is trying to be set on a copy of a slice from a DataFrame.\n",
      "Try using .loc[row_indexer,col_indexer] = value instead\n",
      "\n",
      "See the caveats in the documentation: http://pandas.pydata.org/pandas-docs/stable/indexing.html#indexing-view-versus-copy\n",
      "  \"\"\"\n"
     ]
    },
    {
     "data": {
      "text/html": [
       "<div>\n",
       "<style scoped>\n",
       "    .dataframe tbody tr th:only-of-type {\n",
       "        vertical-align: middle;\n",
       "    }\n",
       "\n",
       "    .dataframe tbody tr th {\n",
       "        vertical-align: top;\n",
       "    }\n",
       "\n",
       "    .dataframe thead th {\n",
       "        text-align: right;\n",
       "    }\n",
       "</style>\n",
       "<table border=\"1\" class=\"dataframe\">\n",
       "  <thead>\n",
       "    <tr style=\"text-align: right;\">\n",
       "      <th></th>\n",
       "      <th>aqi</th>\n",
       "      <th>cbsa</th>\n",
       "      <th>city</th>\n",
       "      <th>county</th>\n",
       "      <th>zeros_county_code</th>\n",
       "      <th>date_local</th>\n",
       "      <th>parameter_code</th>\n",
       "      <th>sample_duration</th>\n",
       "      <th>pollutant_standard</th>\n",
       "      <th>latitude</th>\n",
       "      <th>longitude</th>\n",
       "      <th>state</th>\n",
       "      <th>state_code</th>\n",
       "    </tr>\n",
       "  </thead>\n",
       "  <tbody>\n",
       "    <tr>\n",
       "      <th>0</th>\n",
       "      <td>18.0</td>\n",
       "      <td>San Francisco-Oakland-Hayward, CA</td>\n",
       "      <td>Livermore</td>\n",
       "      <td>Alameda</td>\n",
       "      <td>001</td>\n",
       "      <td>2019-03-31</td>\n",
       "      <td>88101</td>\n",
       "      <td>24-HR BLK AVG</td>\n",
       "      <td>PM25 24-hour 2006</td>\n",
       "      <td>37.687526</td>\n",
       "      <td>-121.784217</td>\n",
       "      <td>California</td>\n",
       "      <td>6</td>\n",
       "    </tr>\n",
       "    <tr>\n",
       "      <th>1</th>\n",
       "      <td>16.0</td>\n",
       "      <td>San Francisco-Oakland-Hayward, CA</td>\n",
       "      <td>Livermore</td>\n",
       "      <td>Alameda</td>\n",
       "      <td>001</td>\n",
       "      <td>2019-03-30</td>\n",
       "      <td>88101</td>\n",
       "      <td>24-HR BLK AVG</td>\n",
       "      <td>PM25 24-hour 2006</td>\n",
       "      <td>37.687526</td>\n",
       "      <td>-121.784217</td>\n",
       "      <td>California</td>\n",
       "      <td>6</td>\n",
       "    </tr>\n",
       "    <tr>\n",
       "      <th>2</th>\n",
       "      <td>8.0</td>\n",
       "      <td>San Francisco-Oakland-Hayward, CA</td>\n",
       "      <td>Livermore</td>\n",
       "      <td>Alameda</td>\n",
       "      <td>001</td>\n",
       "      <td>2019-03-29</td>\n",
       "      <td>88101</td>\n",
       "      <td>24-HR BLK AVG</td>\n",
       "      <td>PM25 24-hour 2006</td>\n",
       "      <td>37.687526</td>\n",
       "      <td>-121.784217</td>\n",
       "      <td>California</td>\n",
       "      <td>6</td>\n",
       "    </tr>\n",
       "    <tr>\n",
       "      <th>3</th>\n",
       "      <td>19.0</td>\n",
       "      <td>San Francisco-Oakland-Hayward, CA</td>\n",
       "      <td>Livermore</td>\n",
       "      <td>Alameda</td>\n",
       "      <td>001</td>\n",
       "      <td>2019-03-28</td>\n",
       "      <td>88101</td>\n",
       "      <td>24-HR BLK AVG</td>\n",
       "      <td>PM25 24-hour 2006</td>\n",
       "      <td>37.687526</td>\n",
       "      <td>-121.784217</td>\n",
       "      <td>California</td>\n",
       "      <td>6</td>\n",
       "    </tr>\n",
       "    <tr>\n",
       "      <th>4</th>\n",
       "      <td>9.0</td>\n",
       "      <td>San Francisco-Oakland-Hayward, CA</td>\n",
       "      <td>Livermore</td>\n",
       "      <td>Alameda</td>\n",
       "      <td>001</td>\n",
       "      <td>2019-03-27</td>\n",
       "      <td>88101</td>\n",
       "      <td>24-HR BLK AVG</td>\n",
       "      <td>PM25 24-hour 2006</td>\n",
       "      <td>37.687526</td>\n",
       "      <td>-121.784217</td>\n",
       "      <td>California</td>\n",
       "      <td>6</td>\n",
       "    </tr>\n",
       "  </tbody>\n",
       "</table>\n",
       "</div>"
      ],
      "text/plain": [
       "    aqi                               cbsa       city   county  \\\n",
       "0  18.0  San Francisco-Oakland-Hayward, CA  Livermore  Alameda   \n",
       "1  16.0  San Francisco-Oakland-Hayward, CA  Livermore  Alameda   \n",
       "2   8.0  San Francisco-Oakland-Hayward, CA  Livermore  Alameda   \n",
       "3  19.0  San Francisco-Oakland-Hayward, CA  Livermore  Alameda   \n",
       "4   9.0  San Francisco-Oakland-Hayward, CA  Livermore  Alameda   \n",
       "\n",
       "  zeros_county_code  date_local  parameter_code sample_duration  \\\n",
       "0               001  2019-03-31           88101   24-HR BLK AVG   \n",
       "1               001  2019-03-30           88101   24-HR BLK AVG   \n",
       "2               001  2019-03-29           88101   24-HR BLK AVG   \n",
       "3               001  2019-03-28           88101   24-HR BLK AVG   \n",
       "4               001  2019-03-27           88101   24-HR BLK AVG   \n",
       "\n",
       "  pollutant_standard   latitude   longitude       state  state_code  \n",
       "0  PM25 24-hour 2006  37.687526 -121.784217  California           6  \n",
       "1  PM25 24-hour 2006  37.687526 -121.784217  California           6  \n",
       "2  PM25 24-hour 2006  37.687526 -121.784217  California           6  \n",
       "3  PM25 24-hour 2006  37.687526 -121.784217  California           6  \n",
       "4  PM25 24-hour 2006  37.687526 -121.784217  California           6  "
      ]
     },
     "execution_count": 7,
     "metadata": {},
     "output_type": "execute_result"
    }
   ],
   "source": [
    "str_county_code = []\n",
    "for code in ca_clean['county_code']:\n",
    "    str_county_code.append(str(code))\n",
    "ca_clean['str_county_code'] = str_county_code\n",
    "ca_clean['zeros_county_code'] = ca_clean['str_county_code'].str.zfill(3)\n",
    "ca_clean = ca_clean[['aqi','cbsa','city','county','zeros_county_code','date_local','parameter_code','sample_duration','pollutant_standard','latitude','longitude','state','state_code']]\n",
    "ca_clean.head()"
   ]
  },
  {
   "cell_type": "code",
   "execution_count": 8,
   "metadata": {},
   "outputs": [
    {
     "data": {
      "text/plain": [
       "aqi                   162822\n",
       "cbsa                  156150\n",
       "city                  162822\n",
       "county                162822\n",
       "zeros_county_code     162822\n",
       "date_local            162822\n",
       "parameter_code        162822\n",
       "sample_duration       162822\n",
       "pollutant_standard    162822\n",
       "latitude              162822\n",
       "longitude             162822\n",
       "state                 162822\n",
       "state_code            162822\n",
       "dtype: int64"
      ]
     },
     "execution_count": 8,
     "metadata": {},
     "output_type": "execute_result"
    }
   ],
   "source": [
    "# data set 1 = all records from counties with the same standard and sample duration (24 hours)\n",
    "ca_clean = ca_clean.loc[ca_clean['pollutant_standard'] == \"PM25 24-hour 2012\"]\n",
    "ca_clean = ca_clean.loc[ca_clean['sample_duration'] != \"1 HOUR\"]\n",
    "# ca_clean.head()\n",
    "ca_clean.count()\n",
    "# ca_clean = ca_columns.loc[ca_columns['pollutant_standard'] == \"PM25 24-hour 2012\"]"
   ]
  },
  {
   "cell_type": "code",
   "execution_count": 11,
   "metadata": {},
   "outputs": [
    {
     "data": {
      "text/plain": [
       "date_local           64358\n",
       "zeros_county_code    64358\n",
       "aqi                  64358\n",
       "parameter_code       64358\n",
       "latitude             64358\n",
       "longitude            64358\n",
       "state_code           64358\n",
       "dtype: int64"
      ]
     },
     "execution_count": 11,
     "metadata": {},
     "output_type": "execute_result"
    }
   ],
   "source": [
    "# data set 2 = average aqi for every day between 3/31/2014 to 3/31/2019 by county\n",
    "ca_avg = ca_clean.groupby(['date_local','zeros_county_code']).mean()\n",
    "ca_avg = ca_avg.reset_index()\n",
    "# ca_avg.head()\n",
    "ca_avg.count()"
   ]
  },
  {
   "cell_type": "code",
   "execution_count": 12,
   "metadata": {},
   "outputs": [
    {
     "data": {
      "text/plain": [
       "month                516\n",
       "zeros_county_code    516\n",
       "aqi                  516\n",
       "parameter_code       516\n",
       "latitude             516\n",
       "longitude            516\n",
       "state_code           516\n",
       "dtype: int64"
      ]
     },
     "execution_count": 12,
     "metadata": {},
     "output_type": "execute_result"
    }
   ],
   "source": [
    "# data set 3 = average aqi for each county by month\n",
    "ca_avg_month = ca_clean\n",
    "ca_avg_month['month'] = pd.DatetimeIndex(ca_clean['date_local']).month\n",
    "ca_avg_month = ca_avg_month.groupby(['month','zeros_county_code']).mean()\n",
    "ca_avg_month = ca_avg_month.reset_index()\n",
    "# ca_avg_month.head()\n",
    "ca_avg_month.count()"
   ]
  },
  {
   "cell_type": "code",
   "execution_count": null,
   "metadata": {},
   "outputs": [],
   "source": [
    "# choose only \"pm2.5 24h standard\"\n",
    "# sf_df_new = sf_df.loc[sf_df['pollutant_standard']==\"PM25 24-hour 2012\"]\n",
    "# sf_df_new.head()"
   ]
  },
  {
   "cell_type": "code",
   "execution_count": null,
   "metadata": {},
   "outputs": [],
   "source": [
    "# get min,max,mean\n",
    "# aqi_min = sf_df_new['aqi'].min()\n",
    "# aqi_max =sf_df_new['aqi'].max()\n",
    "# aqi_mean = sf_df_new['aqi'].mean()\n",
    "\n",
    "# print(aqi_min)\n",
    "# print(aqi_max)\n",
    "# print(aqi_mean)"
   ]
  },
  {
   "cell_type": "code",
   "execution_count": null,
   "metadata": {},
   "outputs": [],
   "source": [
    "# summarize data in categories\n",
    "# size_bins = [0,50,100,150,200,300,500]\n",
    "# size_names= ['good','Moderate','Unhealthy for sensitive groups','unhealthy','very unhealthy','hazardous']\n",
    "# sf_df_bin = sf_df_new[['date_local']].groupby(pd.cut(sf_df_new['aqi'],bins=size_bins,labels=size_names)).count()\n",
    "# sf_df_bin"
   ]
  },
  {
   "cell_type": "markdown",
   "metadata": {},
   "source": [
    "## Step 3: Export Data to Database"
   ]
  },
  {
   "cell_type": "markdown",
   "metadata": {},
   "source": [
    "### Establish connection to database"
   ]
  },
  {
   "cell_type": "code",
   "execution_count": 13,
   "metadata": {},
   "outputs": [],
   "source": [
    "conn = 'mongodb://localhost:27017'\n",
    "client = pymongo.MongoClient(conn)\n",
    "\n",
    "db = client.ca_data"
   ]
  },
  {
   "cell_type": "markdown",
   "metadata": {},
   "source": [
    "### Push records to database"
   ]
  },
  {
   "cell_type": "code",
   "execution_count": 33,
   "metadata": {},
   "outputs": [],
   "source": [
    "collection = db['ca_data']\n",
    "collection2 = db['ca_avg']\n",
    "collection3 = db['ca_avg_month']\n",
    "collection4 = db['ca_avg_plswork']"
   ]
  },
  {
   "cell_type": "code",
   "execution_count": 34,
   "metadata": {},
   "outputs": [
    {
     "data": {
      "text/plain": [
       "<pymongo.results.InsertManyResult at 0x121cf5c48>"
      ]
     },
     "execution_count": 34,
     "metadata": {},
     "output_type": "execute_result"
    }
   ],
   "source": [
    "collection.insert_many(ca_clean.to_dict('records'))\n",
    "collection2.insert_many(ca_avg.to_dict('records'))\n",
    "collection3.insert_many(ca_avg_month.to_dict('records'))\n",
    "collection4.insert_many(ca_avg_plswork.to_dict('records'))"
   ]
  },
  {
   "cell_type": "markdown",
   "metadata": {},
   "source": [
    "### Test record retrieval"
   ]
  },
  {
   "cell_type": "code",
   "execution_count": 16,
   "metadata": {},
   "outputs": [
    {
     "name": "stdout",
     "output_type": "stream",
     "text": [
      "{'zeros_county_code': '001', 'aqi': 182.83333333333334}\n",
      "{'zeros_county_code': '007', 'aqi': 243.0}\n",
      "{'zeros_county_code': '009', 'aqi': 92.0}\n",
      "{'zeros_county_code': '011', 'aqi': 158.0}\n",
      "{'zeros_county_code': '013', 'aqi': 197.0}\n",
      "{'zeros_county_code': '019', 'aqi': 147.6}\n",
      "{'zeros_county_code': '025', 'aqi': 124.0}\n",
      "{'zeros_county_code': '027', 'aqi': 27.5}\n",
      "{'zeros_county_code': '029', 'aqi': 53.333333333333336}\n",
      "{'zeros_county_code': '031', 'aqi': 164.5}\n",
      "{'zeros_county_code': '037', 'aqi': 64.4}\n",
      "{'zeros_county_code': '039', 'aqi': 156.0}\n",
      "{'zeros_county_code': '045', 'aqi': 144.0}\n",
      "{'zeros_county_code': '047', 'aqi': 165.0}\n",
      "{'zeros_county_code': '051', 'aqi': 53.0}\n",
      "{'zeros_county_code': '053', 'aqi': 124.66666666666667}\n",
      "{'zeros_county_code': '055', 'aqi': 179.0}\n",
      "{'zeros_county_code': '057', 'aqi': 82.5}\n",
      "{'zeros_county_code': '059', 'aqi': 59.0}\n",
      "{'zeros_county_code': '063', 'aqi': 91.0}\n",
      "{'zeros_county_code': '065', 'aqi': 55.5}\n",
      "{'zeros_county_code': '067', 'aqi': 143.0}\n",
      "{'zeros_county_code': '069', 'aqi': 115.0}\n",
      "{'zeros_county_code': '071', 'aqi': 61.0}\n",
      "{'zeros_county_code': '073', 'aqi': 45.0}\n",
      "{'zeros_county_code': '075', 'aqi': 158.0}\n",
      "{'zeros_county_code': '077', 'aqi': 202.0}\n",
      "{'zeros_county_code': '079', 'aqi': 84.0}\n",
      "{'zeros_county_code': '083', 'aqi': 74.25}\n",
      "{'zeros_county_code': '085', 'aqi': 156.33333333333334}\n",
      "{'zeros_county_code': '087', 'aqi': 138.0}\n",
      "{'zeros_county_code': '093', 'aqi': 56.0}\n",
      "{'zeros_county_code': '095', 'aqi': 186.0}\n",
      "{'zeros_county_code': '097', 'aqi': 160.0}\n",
      "{'zeros_county_code': '099', 'aqi': 197.5}\n",
      "{'zeros_county_code': '103', 'aqi': 137.0}\n",
      "{'zeros_county_code': '111', 'aqi': 65.0}\n"
     ]
    }
   ],
   "source": [
    "# query mongodb to get aqi for a specific day\n",
    "\n",
    "collection = db['ca_avg']\n",
    "documents = collection.find({'date_local':'2018-11-17'}, {'zeros_county_code': 1, 'aqi': 1, '_id': 0})\n",
    "for x in documents:\n",
    "    print(x)"
   ]
  },
  {
   "cell_type": "markdown",
   "metadata": {},
   "source": [
    "# Modifying GeoJSON Data"
   ]
  },
  {
   "cell_type": "code",
   "execution_count": 18,
   "metadata": {},
   "outputs": [
    {
     "data": {
      "text/plain": [
       "58"
      ]
     },
     "execution_count": 18,
     "metadata": {},
     "output_type": "execute_result"
    }
   ],
   "source": [
    "ca_geo = pd.read_json('Resources/california_counties.json')\n",
    "ca_geo =ca_geo['features']\n",
    "# ca_geo.head()\n",
    "ca_geo.count()"
   ]
  },
  {
   "cell_type": "code",
   "execution_count": 19,
   "metadata": {},
   "outputs": [
    {
     "data": {
      "text/plain": [
       "'011'"
      ]
     },
     "execution_count": 19,
     "metadata": {},
     "output_type": "execute_result"
    }
   ],
   "source": [
    "ca_geo_county = ca_geo[0]['properties']['COUNTY']\n",
    "ca_geo_county"
   ]
  },
  {
   "cell_type": "code",
   "execution_count": 20,
   "metadata": {},
   "outputs": [
    {
     "data": {
      "text/plain": [
       "{'type': 'Polygon',\n",
       " 'coordinates': [[[-121.908269, 39.303878],\n",
       "   [-121.925253, 39.276978],\n",
       "   [-121.948283, 39.241767],\n",
       "   [-121.933409, 39.212626],\n",
       "   [-121.940108, 39.174989],\n",
       "   [-121.93174, 39.142408],\n",
       "   [-121.908251, 39.113922],\n",
       "   [-121.878957, 39.070744],\n",
       "   [-121.83148, 39.039543],\n",
       "   [-121.810004, 39.005084],\n",
       "   [-121.820886, 38.982855],\n",
       "   [-121.835142, 38.957864],\n",
       "   [-121.835094, 38.932793],\n",
       "   [-121.835488, 38.924481],\n",
       "   [-122.337967, 38.923945],\n",
       "   [-122.340172, 38.924246],\n",
       "   [-122.369919, 38.939897],\n",
       "   [-122.405135, 38.959337],\n",
       "   [-122.416163, 38.99151],\n",
       "   [-122.446998, 39.029505],\n",
       "   [-122.474532, 39.050751],\n",
       "   [-122.489553, 39.063434],\n",
       "   [-122.490333, 39.074607],\n",
       "   [-122.486081, 39.083498],\n",
       "   [-122.488132, 39.090623],\n",
       "   [-122.492482, 39.102435],\n",
       "   [-122.497439, 39.116654],\n",
       "   [-122.480637, 39.139279],\n",
       "   [-122.477309, 39.150337],\n",
       "   [-122.485986, 39.17494],\n",
       "   [-122.574444, 39.20677],\n",
       "   [-122.607465, 39.215821],\n",
       "   [-122.627909, 39.222934],\n",
       "   [-122.676538, 39.229049],\n",
       "   [-122.738418, 39.274334],\n",
       "   [-122.772733, 39.318961],\n",
       "   [-122.754763, 39.374883],\n",
       "   [-122.739062, 39.383266],\n",
       "   [-122.136006, 39.385494],\n",
       "   [-122.136161, 39.414499],\n",
       "   [-122.008857, 39.413567],\n",
       "   [-122.009735, 39.383864],\n",
       "   [-121.890013, 39.383864],\n",
       "   [-121.894389, 39.341085],\n",
       "   [-121.908269, 39.303878]]]}"
      ]
     },
     "execution_count": 20,
     "metadata": {},
     "output_type": "execute_result"
    }
   ],
   "source": [
    "ca_geo_coor = ca_geo[0]['geometry']\n",
    "ca_geo_coor"
   ]
  },
  {
   "cell_type": "code",
   "execution_count": 21,
   "metadata": {},
   "outputs": [
    {
     "data": {
      "text/plain": [
       "58"
      ]
     },
     "execution_count": 21,
     "metadata": {},
     "output_type": "execute_result"
    }
   ],
   "source": [
    "ca_geo_clean = []\n",
    "for i in range(len(ca_geo)):\n",
    "    ca_geo1 = ca_geo[i]['properties']['COUNTY']\n",
    "    ca_geo2 = ca_geo[i]['geometry']\n",
    "    ca_geo_clean.append([ca_geo1,ca_geo2])\n",
    "    \n",
    "len(ca_geo_clean)"
   ]
  },
  {
   "cell_type": "code",
   "execution_count": 26,
   "metadata": {
    "scrolled": true
   },
   "outputs": [
    {
     "data": {
      "text/html": [
       "<div>\n",
       "<style scoped>\n",
       "    .dataframe tbody tr th:only-of-type {\n",
       "        vertical-align: middle;\n",
       "    }\n",
       "\n",
       "    .dataframe tbody tr th {\n",
       "        vertical-align: top;\n",
       "    }\n",
       "\n",
       "    .dataframe thead th {\n",
       "        text-align: right;\n",
       "    }\n",
       "</style>\n",
       "<table border=\"1\" class=\"dataframe\">\n",
       "  <thead>\n",
       "    <tr style=\"text-align: right;\">\n",
       "      <th></th>\n",
       "      <th>zeros_county_code</th>\n",
       "      <th>geometry</th>\n",
       "    </tr>\n",
       "  </thead>\n",
       "  <tbody>\n",
       "    <tr>\n",
       "      <th>0</th>\n",
       "      <td>011</td>\n",
       "      <td>{'type': 'Polygon', 'coordinates': [[[-121.908...</td>\n",
       "    </tr>\n",
       "    <tr>\n",
       "      <th>1</th>\n",
       "      <td>021</td>\n",
       "      <td>{'type': 'Polygon', 'coordinates': [[[-121.890...</td>\n",
       "    </tr>\n",
       "    <tr>\n",
       "      <th>2</th>\n",
       "      <td>031</td>\n",
       "      <td>{'type': 'Polygon', 'coordinates': [[[-119.905...</td>\n",
       "    </tr>\n",
       "    <tr>\n",
       "      <th>3</th>\n",
       "      <td>043</td>\n",
       "      <td>{'type': 'Polygon', 'coordinates': [[[-120.387...</td>\n",
       "    </tr>\n",
       "    <tr>\n",
       "      <th>4</th>\n",
       "      <td>049</td>\n",
       "      <td>{'type': 'Polygon', 'coordinates': [[[-121.447...</td>\n",
       "    </tr>\n",
       "  </tbody>\n",
       "</table>\n",
       "</div>"
      ],
      "text/plain": [
       "  zeros_county_code                                           geometry\n",
       "0               011  {'type': 'Polygon', 'coordinates': [[[-121.908...\n",
       "1               021  {'type': 'Polygon', 'coordinates': [[[-121.890...\n",
       "2               031  {'type': 'Polygon', 'coordinates': [[[-119.905...\n",
       "3               043  {'type': 'Polygon', 'coordinates': [[[-120.387...\n",
       "4               049  {'type': 'Polygon', 'coordinates': [[[-121.447..."
      ]
     },
     "execution_count": 26,
     "metadata": {},
     "output_type": "execute_result"
    }
   ],
   "source": [
    "ca_geo_clean = pd.DataFrame(ca_geo_clean)\n",
    "ca_geo_clean = ca_geo_clean.rename(columns = {0:\"zeros_county_code\", 1: 'geometry'})\n",
    "ca_geo_clean.head()"
   ]
  },
  {
   "cell_type": "code",
   "execution_count": 27,
   "metadata": {},
   "outputs": [
    {
     "data": {
      "text/plain": [
       "month                516\n",
       "zeros_county_code    516\n",
       "aqi                  516\n",
       "dtype: int64"
      ]
     },
     "execution_count": 27,
     "metadata": {},
     "output_type": "execute_result"
    }
   ],
   "source": [
    "ca_avg_month_clean = ca_avg_month[['month', 'zeros_county_code', 'aqi']]\n",
    "ca_avg_month_clean.count()"
   ]
  },
  {
   "cell_type": "code",
   "execution_count": 28,
   "metadata": {},
   "outputs": [
    {
     "name": "stderr",
     "output_type": "stream",
     "text": [
      "/anaconda3/lib/python3.7/site-packages/ipykernel_launcher.py:2: SettingWithCopyWarning: \n",
      "A value is trying to be set on a copy of a slice from a DataFrame.\n",
      "Try using .loc[row_indexer,col_indexer] = value instead\n",
      "\n",
      "See the caveats in the documentation: http://pandas.pydata.org/pandas-docs/stable/indexing.html#indexing-view-versus-copy\n",
      "  \n",
      "/anaconda3/lib/python3.7/site-packages/ipykernel_launcher.py:3: SettingWithCopyWarning: \n",
      "A value is trying to be set on a copy of a slice from a DataFrame.\n",
      "Try using .loc[row_indexer,col_indexer] = value instead\n",
      "\n",
      "See the caveats in the documentation: http://pandas.pydata.org/pandas-docs/stable/indexing.html#indexing-view-versus-copy\n",
      "  This is separate from the ipykernel package so we can avoid doing imports until\n",
      "/anaconda3/lib/python3.7/site-packages/ipykernel_launcher.py:4: SettingWithCopyWarning: \n",
      "A value is trying to be set on a copy of a slice from a DataFrame.\n",
      "Try using .loc[row_indexer,col_indexer] = value instead\n",
      "\n",
      "See the caveats in the documentation: http://pandas.pydata.org/pandas-docs/stable/indexing.html#indexing-view-versus-copy\n",
      "  after removing the cwd from sys.path.\n"
     ]
    },
    {
     "data": {
      "text/plain": [
       "month                516\n",
       "zeros_county_code    516\n",
       "aqi                  516\n",
       "type                 516\n",
       "properties           516\n",
       "geometry              58\n",
       "dtype: int64"
      ]
     },
     "execution_count": 28,
     "metadata": {},
     "output_type": "execute_result"
    }
   ],
   "source": [
    "properties = ca_avg_month_clean.to_dict('records')\n",
    "ca_avg_month_clean['type'] = 'Feature'\n",
    "ca_avg_month_clean['properties'] = properties\n",
    "ca_avg_month_clean['geometry'] = ca_geo_clean['geometry']\n",
    "ca_avg_month_clean.count()"
   ]
  },
  {
   "cell_type": "code",
   "execution_count": 29,
   "metadata": {},
   "outputs": [],
   "source": [
    "ca_avg_plswork = ca_avg_month_clean.merge(ca_geo_clean, on = 'zeros_county_code')\n",
    "ca_avg_plswork = ca_avg_plswork.rename(columns = {'geometry_y': 'geometry'})"
   ]
  },
  {
   "cell_type": "code",
   "execution_count": 30,
   "metadata": {
    "scrolled": true
   },
   "outputs": [
    {
     "data": {
      "text/plain": [
       "month                516\n",
       "zeros_county_code    516\n",
       "aqi                  516\n",
       "type                 516\n",
       "properties           516\n",
       "geometry             516\n",
       "dtype: int64"
      ]
     },
     "execution_count": 30,
     "metadata": {},
     "output_type": "execute_result"
    }
   ],
   "source": [
    "ca_avg_plswork = ca_avg_plswork[['month' , 'zeros_county_code', 'aqi', 'type', 'properties', 'geometry']]\n",
    "ca_avg_plswork.count()"
   ]
  },
  {
   "cell_type": "code",
   "execution_count": 31,
   "metadata": {},
   "outputs": [
    {
     "data": {
      "text/plain": [
       "type          516\n",
       "properties    516\n",
       "geometry      516\n",
       "dtype: int64"
      ]
     },
     "execution_count": 31,
     "metadata": {},
     "output_type": "execute_result"
    }
   ],
   "source": [
    "ca_avg_plswork = ca_avg_plswork[['type','properties', 'geometry']]\n",
    "ca_avg_plswork.head()\n",
    "ca_avg_plswork.count()"
   ]
  },
  {
   "cell_type": "code",
   "execution_count": 32,
   "metadata": {},
   "outputs": [],
   "source": [
    "ca_avg_plswork.to_json('Resources/ca_avg_month.json', orient = 'records')"
   ]
  },
  {
   "cell_type": "code",
   "execution_count": null,
   "metadata": {},
   "outputs": [],
   "source": []
  },
  {
   "cell_type": "code",
   "execution_count": null,
   "metadata": {},
   "outputs": [],
   "source": []
  },
  {
   "cell_type": "code",
   "execution_count": null,
   "metadata": {},
   "outputs": [],
   "source": []
  },
  {
   "cell_type": "code",
   "execution_count": null,
   "metadata": {},
   "outputs": [],
   "source": []
  },
  {
   "cell_type": "code",
   "execution_count": null,
   "metadata": {},
   "outputs": [],
   "source": []
  },
  {
   "cell_type": "code",
   "execution_count": null,
   "metadata": {},
   "outputs": [],
   "source": []
  },
  {
   "cell_type": "code",
   "execution_count": null,
   "metadata": {},
   "outputs": [],
   "source": []
  },
  {
   "cell_type": "code",
   "execution_count": null,
   "metadata": {},
   "outputs": [],
   "source": []
  }
 ],
 "metadata": {
  "kernelspec": {
   "display_name": "Python 3",
   "language": "python",
   "name": "python3"
  },
  "language_info": {
   "codemirror_mode": {
    "name": "ipython",
    "version": 3
   },
   "file_extension": ".py",
   "mimetype": "text/x-python",
   "name": "python",
   "nbconvert_exporter": "python",
   "pygments_lexer": "ipython3",
   "version": "3.7.3"
  }
 },
 "nbformat": 4,
 "nbformat_minor": 2
}
