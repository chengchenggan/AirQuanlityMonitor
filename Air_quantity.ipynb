{
 "cells": [
  {
   "cell_type": "markdown",
   "metadata": {},
   "source": [
    "## Step 1: link to the API"
   ]
  },
  {
   "cell_type": "code",
   "execution_count": 1,
   "metadata": {},
   "outputs": [],
   "source": [
    "import pandas as pd\n",
    "from sqlalchemy import create_engine\n",
    "import json\n",
    "from pandas.io.json import json_normalize\n",
    "import requests\n",
    "from config import key\n",
    "from config import gkey"
   ]
  },
  {
   "cell_type": "code",
   "execution_count": 2,
   "metadata": {},
   "outputs": [
    {
     "data": {
      "text/html": [
       "<div>\n",
       "<style scoped>\n",
       "    .dataframe tbody tr th:only-of-type {\n",
       "        vertical-align: middle;\n",
       "    }\n",
       "\n",
       "    .dataframe tbody tr th {\n",
       "        vertical-align: top;\n",
       "    }\n",
       "\n",
       "    .dataframe thead th {\n",
       "        text-align: right;\n",
       "    }\n",
       "</style>\n",
       "<table border=\"1\" class=\"dataframe\">\n",
       "  <thead>\n",
       "    <tr style=\"text-align: right;\">\n",
       "      <th></th>\n",
       "      <th>code</th>\n",
       "      <th>value_represented</th>\n",
       "    </tr>\n",
       "  </thead>\n",
       "  <tbody>\n",
       "    <tr>\n",
       "      <th>0</th>\n",
       "      <td>01</td>\n",
       "      <td>Alabama</td>\n",
       "    </tr>\n",
       "    <tr>\n",
       "      <th>1</th>\n",
       "      <td>02</td>\n",
       "      <td>Alaska</td>\n",
       "    </tr>\n",
       "    <tr>\n",
       "      <th>2</th>\n",
       "      <td>04</td>\n",
       "      <td>Arizona</td>\n",
       "    </tr>\n",
       "    <tr>\n",
       "      <th>3</th>\n",
       "      <td>05</td>\n",
       "      <td>Arkansas</td>\n",
       "    </tr>\n",
       "    <tr>\n",
       "      <th>4</th>\n",
       "      <td>06</td>\n",
       "      <td>California</td>\n",
       "    </tr>\n",
       "  </tbody>\n",
       "</table>\n",
       "</div>"
      ],
      "text/plain": [
       "  code value_represented\n",
       "0   01           Alabama\n",
       "1   02            Alaska\n",
       "2   04           Arizona\n",
       "3   05          Arkansas\n",
       "4   06        California"
      ]
     },
     "execution_count": 2,
     "metadata": {},
     "output_type": "execute_result"
    }
   ],
   "source": [
    "#get state code number --CA 06\n",
    "state_url = \"https://aqs.epa.gov/data/api/list/states?email=\"+gkey+\"&key=\"+key\n",
    "response = requests.get(state_url)\n",
    "response_json = response.json()\n",
    "response_json_data = response_json['Data']\n",
    "#print(response_json_data)\n",
    "state_df = pd.DataFrame.from_dict(response_json_data)\n",
    "state_df.head()"
   ]
  },
  {
   "cell_type": "code",
   "execution_count": 3,
   "metadata": {},
   "outputs": [
    {
     "data": {
      "text/html": [
       "<div>\n",
       "<style scoped>\n",
       "    .dataframe tbody tr th:only-of-type {\n",
       "        vertical-align: middle;\n",
       "    }\n",
       "\n",
       "    .dataframe tbody tr th {\n",
       "        vertical-align: top;\n",
       "    }\n",
       "\n",
       "    .dataframe thead th {\n",
       "        text-align: right;\n",
       "    }\n",
       "</style>\n",
       "<table border=\"1\" class=\"dataframe\">\n",
       "  <thead>\n",
       "    <tr style=\"text-align: right;\">\n",
       "      <th></th>\n",
       "      <th>code</th>\n",
       "      <th>value_represented</th>\n",
       "    </tr>\n",
       "  </thead>\n",
       "  <tbody>\n",
       "    <tr>\n",
       "      <th>0</th>\n",
       "      <td>001</td>\n",
       "      <td>Alameda</td>\n",
       "    </tr>\n",
       "    <tr>\n",
       "      <th>1</th>\n",
       "      <td>003</td>\n",
       "      <td>Alpine</td>\n",
       "    </tr>\n",
       "    <tr>\n",
       "      <th>2</th>\n",
       "      <td>005</td>\n",
       "      <td>Amador</td>\n",
       "    </tr>\n",
       "    <tr>\n",
       "      <th>3</th>\n",
       "      <td>007</td>\n",
       "      <td>Butte</td>\n",
       "    </tr>\n",
       "    <tr>\n",
       "      <th>4</th>\n",
       "      <td>009</td>\n",
       "      <td>Calaveras</td>\n",
       "    </tr>\n",
       "  </tbody>\n",
       "</table>\n",
       "</div>"
      ],
      "text/plain": [
       "  code value_represented\n",
       "0  001           Alameda\n",
       "1  003            Alpine\n",
       "2  005            Amador\n",
       "3  007             Butte\n",
       "4  009         Calaveras"
      ]
     },
     "execution_count": 3,
     "metadata": {},
     "output_type": "execute_result"
    }
   ],
   "source": [
    "#get SF code -- 075\n",
    "city_url = \"https://aqs.epa.gov/data/api/list/countiesByState?email=\"+gkey +\"&key=\"+key+\"&state=06\"\n",
    "response = requests.get(city_url)\n",
    "response_json = response.json()\n",
    "response_json_data = response_json['Data']\n",
    "#print(response_json_data)\n",
    "city_df = pd.DataFrame.from_dict(response_json_data)\n",
    "city_df.head()"
   ]
  },
  {
   "cell_type": "code",
   "execution_count": null,
   "metadata": {},
   "outputs": [],
   "source": [
    "#CBSAs code\": \"41860\",\n",
    "#      \"value_represented\": \"San Francisco-Oakland-Hayward, CA\n",
    "\n",
    "#  \"Parameter code\": \"PM2.5 CONT NONREF\",\n",
    "#       \"value_represented\": \"PM2.5 Continuous, Nonreference Methods\"\n",
    "#     },\n",
    "#     {\n",
    "#       \"code\": \"PM2.5 MASS/QA\",\n",
    "#       \"value_represented\": \"PM2.5 Mass and QA Parameters\"\n",
    "\n",
    "\n",
    "# \"CRITERIA code\": \"88101\",\n",
    "#       \"value_represented\": \"PM2.5 - Local Conditions\""
   ]
  },
  {
   "cell_type": "code",
   "execution_count": null,
   "metadata": {},
   "outputs": [],
   "source": [
    "# state_codes = state_df['code'].tolist()\n",
    "# state_codes_test = [state_codes[0], state_codes[1], state_codes[2]]\n",
    "# total = []"
   ]
  },
  {
   "cell_type": "code",
   "execution_count": null,
   "metadata": {},
   "outputs": [],
   "source": [
    "# for i in state_codes_test:\n",
    "#     state_data = 'https://aqs.epa.gov/data/api/sampleData/byState?email='+gkey+'&key='+key+'&param=88101&bdate=20140301&edate=20190331&state='+i\n",
    "#     response = requests.get(state_data)\n",
    "#     try:\n",
    "#         response_json = response.json()\n",
    "#         response_json_data = response_json['Data']\n",
    "#         total.append(pd.DataFrame.from_dict(response_json_data))\n",
    "#     except:\n",
    "#         continue"
   ]
  },
  {
   "cell_type": "code",
   "execution_count": null,
   "metadata": {},
   "outputs": [],
   "source": [
    "ca_url = \"https://aqs.epa.gov/data/api/dailyData/byState?email=\"+gkey+\"&key=\"+key+\"&param=88101&bdate=20140301&edate=20190331&state=06\"\n",
    "\n",
    "response = requests.get(ca_url)\n",
    "response_json = response.json()\n",
    "#print(response_json)\n",
    "response_json_data = response_json['Data']\n",
    "# #print(response_json_data)\n",
    "ca_df = pd.DataFrame.from_dict(response_json_data)\n",
    "ca_df.head()\n"
   ]
  },
  {
   "cell_type": "code",
   "execution_count": null,
   "metadata": {},
   "outputs": [],
   "source": [
    "ca_5year = total.loc[total['pollutant_standard']==\"PM25 24-hour 2012\"]"
   ]
  },
  {
   "cell_type": "code",
   "execution_count": null,
   "metadata": {},
   "outputs": [],
   "source": [
    "#get current 1y PM 2.5 data for SF\n",
    "#https://aqs.epa.gov/data/api/sampleData/byCBSA?email=test@aqs.api&key=test&param=42602&bdate=20170101&edate=20170101&cbsa=16740\n",
    "#sf_url = \"https://aqs.epa.gov/data/api/sampleData/byCBSA?email=\"+gkey+\"&key=\"+key+\"&param=88101&bdate=20190101&edate=20190101&cbsa=41860\"\n",
    "\n",
    "sf_url = \"https://aqs.epa.gov/data/api/dailyData/byCounty?email=\"+gkey+\"&key=\"+key+\"&param=88101&bdate=20140301&edate=20190331&state=06&county=075\"\n",
    "\n",
    "response = requests.get(sf_url)\n",
    "response_json = response.json()\n",
    "#print(response_json)\n",
    "response_json_data = response_json['Data']\n",
    "# #print(response_json_data)\n",
    "sf_df = pd.DataFrame.from_dict(response_json_data)\n",
    "sf_df.head()\n",
    "\n",
    "#https://aqs.epa.gov/data/api/monitors/byState?email=test@aqs.api&key=test&param=42401&bdate=20150501&edate=20150502&state=15"
   ]
  },
  {
   "cell_type": "code",
   "execution_count": null,
   "metadata": {},
   "outputs": [],
   "source": [
    "#choose only \"pm2.5 24h standard\"\n",
    "sf_df_new = sf_df.loc[sf_df['pollutant_standard']==\"PM25 24-hour 2012\"]\n",
    "sf_df_new"
   ]
  },
  {
   "cell_type": "code",
   "execution_count": null,
   "metadata": {},
   "outputs": [],
   "source": []
  },
  {
   "cell_type": "code",
   "execution_count": null,
   "metadata": {},
   "outputs": [],
   "source": [
    "#get min,max,mean\n",
    "aqi_min = sf_df_new['aqi'].min()\n",
    "aqi_max =sf_df_new['aqi'].max()\n",
    "aqi_mean = sf_df_new['aqi'].mean()\n",
    "\n",
    "print(aqi_min)\n",
    "print(aqi_max)\n",
    "print(aqi_mean)"
   ]
  },
  {
   "cell_type": "code",
   "execution_count": null,
   "metadata": {},
   "outputs": [],
   "source": [
    "# summurize data in categories\n",
    "size_bins = [0,50,100,150,200,300,500]\n",
    "size_names= ['good','Moderate','Unhealthy for sensitive groups','unhealthy','very unhealthy','hazardous']\n",
    "sf_df_bin = sf_df_new[['date_local']].groupby(pd.cut(sf_df_new['aqi'],bins=size_bins,labels=size_names)).count()\n",
    "sf_df_bin"
   ]
  },
  {
   "cell_type": "markdown",
   "metadata": {},
   "source": [
    "## Step 2: export data to the database"
   ]
  },
  {
   "cell_type": "code",
   "execution_count": null,
   "metadata": {},
   "outputs": [],
   "source": [
    "sf_df_new.to_csv(\"sf_aqi\",index=False)"
   ]
  },
  {
   "cell_type": "code",
   "execution_count": null,
   "metadata": {},
   "outputs": [],
   "source": [
    "ca_5year.to_csv('national_data', index = False)"
   ]
  }
 ],
 "metadata": {
  "kernelspec": {
   "display_name": "Python 3",
   "language": "python",
   "name": "python3"
  },
  "language_info": {
   "codemirror_mode": {
    "name": "ipython",
    "version": 3
   },
   "file_extension": ".py",
   "mimetype": "text/x-python",
   "name": "python",
   "nbconvert_exporter": "python",
   "pygments_lexer": "ipython3",
   "version": "3.7.1"
  }
 },
 "nbformat": 4,
 "nbformat_minor": 2
}
